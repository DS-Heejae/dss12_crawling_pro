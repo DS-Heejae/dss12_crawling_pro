{
 "cells": [
  {
   "cell_type": "markdown",
   "metadata": {},
   "source": [
    "### 타다 금지법 동영상 댓글 분석\n",
    "#### KoNLPy를 사용"
   ]
  },
  {
   "cell_type": "markdown",
   "metadata": {},
   "source": [
    "### 공식 사이트\n",
    "#### https://konlpy-ko.readthedocs.io/ko/v0.5.2/\n",
    "\n",
    "- ubuntu 기준 설치\n",
    "\n",
    "    `sudo apt-get install g++ openjdk-8-jdk python3-dev python3-pip curl`\n",
    "    \n",
    "    `python3 -m pip install konlpy`\n",
    "    \n",
    "    \n",
    "- 윈도우 기준 설치\n",
    "\n",
    "    `pip install --upgrade pip`\n",
    "\n",
    "    `pip install JPype1-0.5.7-cp27-none-win_amd64.whl`\n",
    "\n",
    "    `pip install konlpy`\n",
    "    \n",
    "    \n",
    "    \n",
    "- 분석 방법\n",
    "    - MongoDB 에서 데이터 가져오기\n",
    "    - df 변환하고 샘플 뽑기\n",
    "    - df 파일 텍스트 파일로 변환\n",
    "    - 단어, 단어 빈도수, 형태소 추출\n",
    "    - 중복 : 라인(문장별), 단어별 확인\n",
    "    - 중복 단어, 특정 제거 기준에 따라 단어 처리\n",
    "    - 최종 빈도수 파악\n",
    "    - 워드 크라우드, 그래프 시각화\n",
    "    \n",
    "    \n",
    "    \n",
    "- 변수 설명\n",
    "    - comment_result : 몽고 디비에서 가져온 df 변수\n",
    "    - comment_sample : 댓글 상위 10개 샘플\n",
    "    - wtest_samlpe.txt 샘플 텍스트 파일\n",
    "    - com_txt : 텍스트 파일로 변환한 변수(wtest_samlpe.txt 사용)\n",
    "    - word_ext : 단어 추출(com_txt 사용)\n",
    "    - word_freq : 단어 빈도(word_ext 사용) \n",
    "    - duplicate_comment : 동일 단어 제거(com_txt 사용)\n",
    "    - duplicate_comment_freq : 문장 별 중복 단어 제거, 빈도수 확인\n",
    "    - rm_dupl : 두 단어 이상 글자 선택(워드크라우드, 그래프 그릴 때 사용되는 원본 데이터)\n",
    "    - result_freq_mc_dict : 단어별 최종 빈도수\n"
   ]
  },
  {
   "cell_type": "code",
   "execution_count": 112,
   "metadata": {},
   "outputs": [],
   "source": [
    "#package import\n",
    "from konlpy.tag import * # konlpy 한글 분석용\n",
    "from wordcloud import WordCloud\n",
    "\n",
    "import matplotlib\n",
    "import matplotlib.pyplot as plt\n",
    "from matplotlib import font_manager, rc # 폰트 폰트...ㅠ\n",
    "\n",
    "from collections import Counter # 빈도 분석\n",
    "import pandas as pd\n",
    "\n",
    "import pymongo\n",
    "\n",
    "\n",
    "okt = Okt()\n",
    "kkma = Kkma()"
   ]
  },
  {
   "cell_type": "code",
   "execution_count": 23,
   "metadata": {},
   "outputs": [
    {
     "data": {
      "text/html": [
       "<div>\n",
       "<style scoped>\n",
       "    .dataframe tbody tr th:only-of-type {\n",
       "        vertical-align: middle;\n",
       "    }\n",
       "\n",
       "    .dataframe tbody tr th {\n",
       "        vertical-align: top;\n",
       "    }\n",
       "\n",
       "    .dataframe thead th {\n",
       "        text-align: right;\n",
       "    }\n",
       "</style>\n",
       "<table border=\"1\" class=\"dataframe\">\n",
       "  <thead>\n",
       "    <tr style=\"text-align: right;\">\n",
       "      <th></th>\n",
       "      <th>_id</th>\n",
       "      <th>user_id</th>\n",
       "      <th>댓글</th>\n",
       "      <th>제목</th>\n",
       "      <th>좋아요 수</th>\n",
       "    </tr>\n",
       "  </thead>\n",
       "  <tbody>\n",
       "    <tr>\n",
       "      <th>185</th>\n",
       "      <td>5e6e7304899b7f253dd60d7a</td>\n",
       "      <td>고래밥</td>\n",
       "      <td>타다는 참 어려운 주제인거 같은데 그나마 갓주니가 풀어줘서 좀 더 잘 이해를 하게 ...</td>\n",
       "      <td>[KBS열린토론] 타다 금지법 이후, 차량 공유서비스는 어디로? / 정준희, 구태언...</td>\n",
       "      <td></td>\n",
       "    </tr>\n",
       "    <tr>\n",
       "      <th>186</th>\n",
       "      <td>5e6e7304899b7f253dd60d7b</td>\n",
       "      <td>kiyomaru Suzuki</td>\n",
       "      <td>타다가 1년반동안 누적적자 300억이라면 택시 밀어낸 후 결국 요금인상으로 이어지겠네</td>\n",
       "      <td>[KBS열린토론] 타다 금지법 이후, 차량 공유서비스는 어디로? / 정준희, 구태언...</td>\n",
       "      <td></td>\n",
       "    </tr>\n",
       "    <tr>\n",
       "      <th>187</th>\n",
       "      <td>5e6e7304899b7f253dd60d7c</td>\n",
       "      <td>용덕</td>\n",
       "      <td>패널선택이불공편하네요\\n타다옹호하려구나왔나\\n케이비에스가 타다살려주려구\\n토론주제를...</td>\n",
       "      <td>[KBS열린토론] 타다 금지법 이후, 차량 공유서비스는 어디로? / 정준희, 구태언...</td>\n",
       "      <td></td>\n",
       "    </tr>\n",
       "    <tr>\n",
       "      <th>188</th>\n",
       "      <td>5e6e7304899b7f253dd60d7d</td>\n",
       "      <td>문성우</td>\n",
       "      <td>박정희군사쿠데타, 전두환군사쿠데타국민학살, 박그네세월호 최서원 국정농단 최태민과 이...</td>\n",
       "      <td>[KBS열린토론] 타다 금지법 이후, 차량 공유서비스는 어디로? / 정준희, 구태언...</td>\n",
       "      <td></td>\n",
       "    </tr>\n",
       "    <tr>\n",
       "      <th>189</th>\n",
       "      <td>5e6e7304899b7f253dd60d7e</td>\n",
       "      <td>김태구</td>\n",
       "      <td>그냥 개인 자격으로 참여한 분들로 봅시다.\\n여튼 패널 선정은.완전 에러</td>\n",
       "      <td>[KBS열린토론] 타다 금지법 이후, 차량 공유서비스는 어디로? / 정준희, 구태언...</td>\n",
       "      <td></td>\n",
       "    </tr>\n",
       "  </tbody>\n",
       "</table>\n",
       "</div>"
      ],
      "text/plain": [
       "                          _id          user_id  \\\n",
       "185  5e6e7304899b7f253dd60d7a              고래밥   \n",
       "186  5e6e7304899b7f253dd60d7b  kiyomaru Suzuki   \n",
       "187  5e6e7304899b7f253dd60d7c               용덕   \n",
       "188  5e6e7304899b7f253dd60d7d              문성우   \n",
       "189  5e6e7304899b7f253dd60d7e              김태구   \n",
       "\n",
       "                                                    댓글  \\\n",
       "185  타다는 참 어려운 주제인거 같은데 그나마 갓주니가 풀어줘서 좀 더 잘 이해를 하게 ...   \n",
       "186    타다가 1년반동안 누적적자 300억이라면 택시 밀어낸 후 결국 요금인상으로 이어지겠네   \n",
       "187  패널선택이불공편하네요\\n타다옹호하려구나왔나\\n케이비에스가 타다살려주려구\\n토론주제를...   \n",
       "188  박정희군사쿠데타, 전두환군사쿠데타국민학살, 박그네세월호 최서원 국정농단 최태민과 이...   \n",
       "189           그냥 개인 자격으로 참여한 분들로 봅시다.\\n여튼 패널 선정은.완전 에러   \n",
       "\n",
       "                                                    제목 좋아요 수  \n",
       "185  [KBS열린토론] 타다 금지법 이후, 차량 공유서비스는 어디로? / 정준희, 구태언...        \n",
       "186  [KBS열린토론] 타다 금지법 이후, 차량 공유서비스는 어디로? / 정준희, 구태언...        \n",
       "187  [KBS열린토론] 타다 금지법 이후, 차량 공유서비스는 어디로? / 정준희, 구태언...        \n",
       "188  [KBS열린토론] 타다 금지법 이후, 차량 공유서비스는 어디로? / 정준희, 구태언...        \n",
       "189  [KBS열린토론] 타다 금지법 이후, 차량 공유서비스는 어디로? / 정준희, 구태언...        "
      ]
     },
     "execution_count": 23,
     "metadata": {},
     "output_type": "execute_result"
    }
   ],
   "source": [
    "# 몽고DB에서 데이터 가져오기\n",
    "client = pymongo.MongoClient(\"mongodb://id:pw@ip.ip.ip.ip:port/\")\n",
    "result = client.crawling.youtube\n",
    "comment_result = pd.DataFrame(result.find({}))\n",
    "comment_result.tail()"
   ]
  },
  {
   "cell_type": "code",
   "execution_count": 78,
   "metadata": {},
   "outputs": [
    {
     "data": {
      "text/plain": [
       "['사람들이 모르는 거...자가용 운전자가 자신이 아는 사람 태우고 갈 경우,  사고가 나면 승차인원 전원이 보험혜택을 받음.  헌데 흔히 나라시라고 모르는 사람을 태워줬을 경우, 돈을 받았건 안 받았건 사고 나면 운전자 본인 외에 보험혜택을 못 받음...카톡으로 같은 방향 태워주고 나누는 삶 좋은 삶이 아니라 사고 나도 보험 혜택을 못 받는 삶임.....이럴려면   택시면허증은 왜 발급하는데?',\n",
       " '기사가 운전하는 타다는 택시와 달리 승객의 지위가 서비스를 받는 손님이 아니라 기사를 고용한 고용주 입니다.  기사와 렌트카의 보상범위가 넘는 사고 유발시 문제가 발생 할 수 있죠.',\n",
       " '최소한의 규칙까지도 무너뜨리려는 행위\\n하는짓들이 하나같이 문제투성이네요',\n",
       " '타다\\n잘몰랐는데\\n야메\\n한방에 알았네요 ~~~꾸벅',\n",
       " '\"타다\" 잘 몰랐는데, 이쯤되면 \\n타다 국정조사해야 되는 것 아닌가? \\n뭔가 검은 돈이 오간 악취가 난다.',\n",
       " '타다법 법사위 통과는 불법편법을 4차산업이라는 말을 내세워 합법화처럼 운영하려했던 모호했던 법안을 정리한 합리적인 법이라고 본다.당연히 여객운송법으로 모든 사업자가 법에의해 사업을 하고있는데 랜터카의 모호한 법을 찾아내 마치 4차산업이란 말로 무임승차 하려던 타다법이 정리된건 잘된일이라 본다. \\n죽긴 왜 죽냐 공꺼로 할려니깐 그렇지 제도권 총량제 틀속에서 하면 되잖아 면허를 사던지 그것도 아까우면 택시랑 가맹을 맺어서 하던지 그것도 싫으연 면허를 지입형태로 받아 들이고 임대료 주면서 기사 따로 고용을 해서 하던지 1세대 벤처 김희애 남편 이찬진이 그랬잖아 20대 국회서 가장 잘한일이 타다 금지법 법사위 통과한 거라고 본다. ',\n",
       " '같은뉴스 댓글 좋아요 누른것을보면요 다음은  좋아요가 10배 네이버는 싫어요가 5배되는데 이제는 트루킹이 다음으로 간듯합니다뉴스는 김경수가 100만원씩 주자고한것요',\n",
       " '이재웅이 친노돌과 짬짜미한 것으로\\n의심됨',\n",
       " '공유합니다!  감사합니다',\n",
       " '타다금지법 통과\\n너무 잘됐네요^^']"
      ]
     },
     "execution_count": 78,
     "metadata": {},
     "output_type": "execute_result"
    }
   ],
   "source": [
    "# 잘려서 보이지만 다 보임.\n",
    "import sys\n",
    "comment = list(comment_result['댓글'])\n",
    "# 양이 많아 10개만\n",
    "comment_sample = comment[0:10]\n",
    "comment_sample"
   ]
  },
  {
   "cell_type": "code",
   "execution_count": 79,
   "metadata": {},
   "outputs": [],
   "source": [
    "#NLP 분석 시 텍스트 형태로 불러와 작업해줘야 한다.\n",
    "#파일 쓰는 함수\n",
    "def write_txt(list,fname,sep):\n",
    "    file = open(fname,'w')\n",
    "    vstr = ''\n",
    "    \n",
    "    for a in list:\n",
    "        vstr = vstr + str(a) + sep\n",
    "    vstr = vstr.rstrip(sep)\n",
    "    \n",
    "    file.writelines(vstr)\n",
    "    \n",
    "    file.close()\n",
    "    print('[complete]')"
   ]
  },
  {
   "cell_type": "code",
   "execution_count": 80,
   "metadata": {},
   "outputs": [
    {
     "name": "stdout",
     "output_type": "stream",
     "text": [
      "[complete]\n"
     ]
    }
   ],
   "source": [
    "write_txt(comment_sample,'wtest_samlpe.txt',sep=\"'\")"
   ]
  },
  {
   "cell_type": "code",
   "execution_count": 81,
   "metadata": {},
   "outputs": [],
   "source": [
    "com_txt = open('wtest_samlpe.txt').read()"
   ]
  },
  {
   "cell_type": "code",
   "execution_count": 82,
   "metadata": {},
   "outputs": [
    {
     "name": "stdout",
     "output_type": "stream",
     "text": [
      "['사람', '거', '자가용', '운전자', '자신', '사람', '경우', '사고', '승차', '인원', '전원', '보험', '혜택', '나라시', '사람', '경우', '돈', '안', '사고', '운전자', '본인', '외', '보험', '혜택', '못', '카톡', '방향', '삶', '삶', '사고', '보험', '혜택', '못', '삶임', '택시', '면허증', '왜', '발급', '기사', '운전', '택시', '달리', '승객', '지위', '서비스', '손님', '기사', '고용', '고용주', '기사', '렌트카', '보상', '범위', '사고', '유발', '시', '문제', '발생', '수', '최소한', '규칙', '무너', '려', '행위', '투성이', '야메', '방', '꾸벅', '이쯤', '국정조사', '것', '뭔가', '돈', '악취', '법', '법', '사위', '통과', '불법', '편법', '차', '산업', '말', '합법', '운영', '법안', '정리', '합리', '법', '여객운송', '법', '모든', '사업자', '법', '해', '사업', '랜터카', '법', '마치', '차', '산업', '말로', '무임', '승차', '법', '정리', '일이', '왜', '공', '려', '제도', '총량제', '틀속', '면허', '그것', '택시', '가맹', '그것', '연', '면허', '입', '형태', '임대료', '기사', '고용', '세대', '처', '김희애', '남편', '이찬진', '국회', '가장', '일이', '금지법', '법', '사위', '통과', '거', '뉴스', '댓글', '다음', '요가', '배', '네이버', '요가', '배', '이제', '트루', '킹', '다음', '뉴스', '김경수', '자고', '것', '이재웅', '친노', '돌', '짬짜미', '것', '의심', '공유', '금지법', '통과']\n"
     ]
    }
   ],
   "source": [
    "# 추출된 단어 구하기\n",
    "word_ext = okt.nouns(com_txt)\n",
    "print(word_ext)"
   ]
  },
  {
   "cell_type": "code",
   "execution_count": 83,
   "metadata": {},
   "outputs": [
    {
     "name": "stdout",
     "output_type": "stream",
     "text": [
      "Counter({'법': 8, '사고': 4, '기사': 4, '사람': 3, '보험': 3, '혜택': 3, '택시': 3, '것': 3, '통과': 3, '거': 2, '운전자': 2, '경우': 2, '승차': 2, '돈': 2, '못': 2, '삶': 2, '왜': 2, '고용': 2, '려': 2, '사위': 2, '차': 2, '산업': 2, '정리': 2, '일이': 2, '면허': 2, '그것': 2, '금지법': 2, '뉴스': 2, '다음': 2, '요가': 2, '배': 2, '자가용': 1, '자신': 1, '인원': 1, '전원': 1, '나라시': 1, '안': 1, '본인': 1, '외': 1, '카톡': 1, '방향': 1, '삶임': 1, '면허증': 1, '발급': 1, '운전': 1, '달리': 1, '승객': 1, '지위': 1, '서비스': 1, '손님': 1, '고용주': 1, '렌트카': 1, '보상': 1, '범위': 1, '유발': 1, '시': 1, '문제': 1, '발생': 1, '수': 1, '최소한': 1, '규칙': 1, '무너': 1, '행위': 1, '투성이': 1, '야메': 1, '방': 1, '꾸벅': 1, '이쯤': 1, '국정조사': 1, '뭔가': 1, '악취': 1, '불법': 1, '편법': 1, '말': 1, '합법': 1, '운영': 1, '법안': 1, '합리': 1, '여객운송': 1, '모든': 1, '사업자': 1, '해': 1, '사업': 1, '랜터카': 1, '마치': 1, '말로': 1, '무임': 1, '공': 1, '제도': 1, '총량제': 1, '틀속': 1, '가맹': 1, '연': 1, '입': 1, '형태': 1, '임대료': 1, '세대': 1, '처': 1, '김희애': 1, '남편': 1, '이찬진': 1, '국회': 1, '가장': 1, '댓글': 1, '네이버': 1, '이제': 1, '트루': 1, '킹': 1, '김경수': 1, '자고': 1, '이재웅': 1, '친노': 1, '돌': 1, '짬짜미': 1, '의심': 1, '공유': 1})\n"
     ]
    }
   ],
   "source": [
    "# 추출 단어 빈도수 구하기\n",
    "word_freq = Counter(word_ext)\n",
    "print(word_freq)\n",
    "# 결과를 보니 생각보다 별로다... 전체 결과를 보았을 때는 타다 언급이 가장 많았음."
   ]
  },
  {
   "cell_type": "code",
   "execution_count": 84,
   "metadata": {
    "collapsed": true
   },
   "outputs": [
    {
     "data": {
      "text/plain": [
       "['사람/Noun',\n",
       " '들/Suffix',\n",
       " '이/Josa',\n",
       " '모르는/Verb',\n",
       " '거/Noun',\n",
       " '.../Punctuation',\n",
       " '자가용/Noun',\n",
       " '운전자/Noun',\n",
       " '가/Josa',\n",
       " '자신/Noun',\n",
       " '이/Josa',\n",
       " '아는/Verb',\n",
       " '사람/Noun',\n",
       " '태우고/Verb',\n",
       " '갈/Verb',\n",
       " '경우/Noun',\n",
       " ',/Punctuation',\n",
       " '사고/Noun',\n",
       " '가/Josa',\n",
       " '나면/Verb',\n",
       " '승차/Noun',\n",
       " '인원/Noun',\n",
       " '전원/Noun',\n",
       " '이/Josa',\n",
       " '보험/Noun',\n",
       " '혜택/Noun',\n",
       " '을/Josa',\n",
       " '받음/Verb',\n",
       " './Punctuation',\n",
       " '헌데/Verb',\n",
       " '흔히/Adjective',\n",
       " '나라시/Noun',\n",
       " '라고/Josa',\n",
       " '모르는/Verb',\n",
       " '사람/Noun',\n",
       " '을/Josa',\n",
       " '태워/Verb',\n",
       " '줬을/Verb',\n",
       " '경우/Noun',\n",
       " ',/Punctuation',\n",
       " '돈/Noun',\n",
       " '을/Josa',\n",
       " '받았건/Verb',\n",
       " '안/Noun',\n",
       " '받았건/Verb',\n",
       " '사고/Noun',\n",
       " '나면/Verb',\n",
       " '운전자/Noun',\n",
       " '본인/Noun',\n",
       " '외/Noun',\n",
       " '에/Josa',\n",
       " '보험/Noun',\n",
       " '혜택/Noun',\n",
       " '을/Josa',\n",
       " '못/Noun',\n",
       " '받음/Verb',\n",
       " '.../Punctuation',\n",
       " '카톡/Noun',\n",
       " '으로/Josa',\n",
       " '같은/Adjective',\n",
       " '방향/Noun',\n",
       " '태워주고/Verb',\n",
       " '나누는/Verb',\n",
       " '삶/Noun',\n",
       " '좋은/Adjective',\n",
       " '삶/Noun',\n",
       " '이/Josa',\n",
       " '아니라/Adjective',\n",
       " '사고/Noun',\n",
       " '나도/Verb',\n",
       " '보험/Noun',\n",
       " '혜택/Noun',\n",
       " '을/Josa',\n",
       " '못/Noun',\n",
       " '받는/Verb',\n",
       " '삶임/Noun',\n",
       " '...../Punctuation',\n",
       " '이럴려면/Adjective',\n",
       " '택시/Noun',\n",
       " '면허증/Noun',\n",
       " '은/Josa',\n",
       " '왜/Noun',\n",
       " '발급/Noun',\n",
       " '하는데/Verb',\n",
       " \"?'/Punctuation\",\n",
       " '기사/Noun',\n",
       " '가/Josa',\n",
       " '운전/Noun',\n",
       " '하는/Verb',\n",
       " '타다는/Verb',\n",
       " '택시/Noun',\n",
       " '와/Josa',\n",
       " '달리/Noun',\n",
       " '승객/Noun',\n",
       " '의/Josa',\n",
       " '지위/Noun',\n",
       " '가/Josa',\n",
       " '서비스/Noun',\n",
       " '를/Josa',\n",
       " '받는/Verb',\n",
       " '손님/Noun',\n",
       " '이/Josa',\n",
       " '아니라/Adjective',\n",
       " '기사/Noun',\n",
       " '를/Josa',\n",
       " '고용/Noun',\n",
       " '한/Josa',\n",
       " '고용주/Noun',\n",
       " '입니다/Adjective',\n",
       " './Punctuation',\n",
       " '기사/Noun',\n",
       " '와/Josa',\n",
       " '렌트카/Noun',\n",
       " '의/Josa',\n",
       " '보상/Noun',\n",
       " '범위/Noun',\n",
       " '가/Josa',\n",
       " '넘는/Verb',\n",
       " '사고/Noun',\n",
       " '유발/Noun',\n",
       " '시/Noun',\n",
       " '문제/Noun',\n",
       " '가/Josa',\n",
       " '발생/Noun',\n",
       " '할/Verb',\n",
       " '수/Noun',\n",
       " '있죠/Adjective',\n",
       " \".'/Punctuation\",\n",
       " '최소한/Noun',\n",
       " '의/Josa',\n",
       " '규칙/Noun',\n",
       " '까지도/Josa',\n",
       " '무너/Noun',\n",
       " '뜨리/Verb',\n",
       " '려/Noun',\n",
       " '는/Josa',\n",
       " '행위/Noun',\n",
       " '\\n/Foreign',\n",
       " '하는/Verb',\n",
       " '짓/VerbPrefix',\n",
       " '들이/Verb',\n",
       " '하나같이/Adverb',\n",
       " '문/Modifier',\n",
       " '제/Modifier',\n",
       " '투성이/Noun',\n",
       " '네/Suffix',\n",
       " '요/Josa',\n",
       " \"'/Punctuation\",\n",
       " '타다/Verb',\n",
       " '\\n/Foreign',\n",
       " '잘/VerbPrefix',\n",
       " '몰랐는데/Verb',\n",
       " '\\n/Foreign',\n",
       " '야메/Noun',\n",
       " '\\n/Foreign',\n",
       " '한/Determiner',\n",
       " '방/Noun',\n",
       " '에/Josa',\n",
       " '알았네요/Verb',\n",
       " '~~~/Punctuation',\n",
       " '꾸벅/Noun',\n",
       " '\\'\"/Punctuation',\n",
       " '타다/Verb',\n",
       " '\"/Punctuation',\n",
       " '잘/Verb',\n",
       " '몰랐는데/Verb',\n",
       " ',/Punctuation',\n",
       " '이쯤/Noun',\n",
       " '되면/Verb',\n",
       " '타다/Verb',\n",
       " '국정조사/Noun',\n",
       " '해야/Verb',\n",
       " '되는/Verb',\n",
       " '것/Noun',\n",
       " '아닌가/Adjective',\n",
       " '?/Punctuation',\n",
       " '뭔가/Noun',\n",
       " '검은/Adjective',\n",
       " '돈/Noun',\n",
       " '이/Josa',\n",
       " '오간/Verb',\n",
       " '악취/Noun',\n",
       " '가/Josa',\n",
       " '난다/Verb',\n",
       " \".'/Punctuation\",\n",
       " '타다/Verb',\n",
       " '법/Noun',\n",
       " '법/Noun',\n",
       " '사위/Noun',\n",
       " '통과/Noun',\n",
       " '는/Josa',\n",
       " '불법/Noun',\n",
       " '편법/Noun',\n",
       " '을/Josa',\n",
       " '4/Number',\n",
       " '차/Noun',\n",
       " '산업/Noun',\n",
       " '이라는/Josa',\n",
       " '말/Noun',\n",
       " '을/Josa',\n",
       " '내세워/Verb',\n",
       " '합법/Noun',\n",
       " '화/Suffix',\n",
       " '처럼/Josa',\n",
       " '운영/Noun',\n",
       " '하려/Verb',\n",
       " '했던/Verb',\n",
       " '모호했던/Adjective',\n",
       " '법안/Noun',\n",
       " '을/Josa',\n",
       " '정리/Noun',\n",
       " '한/Josa',\n",
       " '합리/Noun',\n",
       " '적/Suffix',\n",
       " '인/Josa',\n",
       " '법/Noun',\n",
       " '이라고/Josa',\n",
       " '본다/Verb',\n",
       " './Punctuation',\n",
       " '당연히/Adjective',\n",
       " '여객운송/Noun',\n",
       " '법/Noun',\n",
       " '으로/Josa',\n",
       " '모든/Noun',\n",
       " '사업자/Noun',\n",
       " '가/Josa',\n",
       " '법/Noun',\n",
       " '에의/Josa',\n",
       " '해/Noun',\n",
       " '사업/Noun',\n",
       " '을/Josa',\n",
       " '하고있는데/Verb',\n",
       " '랜터카/Noun',\n",
       " '의/Josa',\n",
       " '모호한/Adjective',\n",
       " '법/Noun',\n",
       " '을/Josa',\n",
       " '찾아내/Verb',\n",
       " '마치/Noun',\n",
       " '4/Number',\n",
       " '차/Noun',\n",
       " '산업/Noun',\n",
       " '이란/Josa',\n",
       " '말로/Noun',\n",
       " '무임/Noun',\n",
       " '승차/Noun',\n",
       " '하려던/Verb',\n",
       " '타다/Verb',\n",
       " '법/Noun',\n",
       " '이/Josa',\n",
       " '정리/Noun',\n",
       " '된건/Verb',\n",
       " '잘/VerbPrefix',\n",
       " '된/Verb',\n",
       " '일이/Noun',\n",
       " '라/Josa',\n",
       " '본다/Verb',\n",
       " './Punctuation',\n",
       " '죽긴/Verb',\n",
       " '왜/Noun',\n",
       " '죽냐/Verb',\n",
       " '공/Noun',\n",
       " '꺼/Suffix',\n",
       " '로/Josa',\n",
       " '할/Verb',\n",
       " '려/Noun',\n",
       " '니깐/Josa',\n",
       " '그렇지/Adjective',\n",
       " '제도/Noun',\n",
       " '권/Suffix',\n",
       " '총량제/Noun',\n",
       " '틀속/Noun',\n",
       " '에서/Josa',\n",
       " '하면/Verb',\n",
       " '되잖아/Verb',\n",
       " '면허/Noun',\n",
       " '를/Josa',\n",
       " '사던지/Verb',\n",
       " '그것/Noun',\n",
       " '도/Josa',\n",
       " '아까우면/Adjective',\n",
       " '택시/Noun',\n",
       " '랑/Josa',\n",
       " '가맹/Noun',\n",
       " '을/Josa',\n",
       " '맺어서/Verb',\n",
       " '하던지/Verb',\n",
       " '그것/Noun',\n",
       " '도/Josa',\n",
       " '싫으/Adjective',\n",
       " '연/Noun',\n",
       " '면허/Noun',\n",
       " '를/Josa',\n",
       " '지/Modifier',\n",
       " '입/Noun',\n",
       " '형태/Noun',\n",
       " '로/Josa',\n",
       " '받아/Verb',\n",
       " '들이고/Verb',\n",
       " '임대료/Noun',\n",
       " '주면서/Verb',\n",
       " '기사/Noun',\n",
       " '따로/Adverb',\n",
       " '고용/Noun',\n",
       " '을/Josa',\n",
       " '해서/Verb',\n",
       " '하던지/Verb',\n",
       " '1/Number',\n",
       " '세대/Noun',\n",
       " '벤/Verb',\n",
       " '처/Noun',\n",
       " '김희애/Noun',\n",
       " '남편/Noun',\n",
       " '이찬진/Noun',\n",
       " '이/Josa',\n",
       " '그랬잖아/Adjective',\n",
       " '20/Number',\n",
       " '대/Verb',\n",
       " '국회/Noun',\n",
       " '서/Josa',\n",
       " '가장/Noun',\n",
       " '잘/Verb',\n",
       " '한/Determiner',\n",
       " '일이/Noun',\n",
       " '타다/Verb',\n",
       " '금지법/Noun',\n",
       " '법/Noun',\n",
       " '사위/Noun',\n",
       " '통과/Noun',\n",
       " '한/Josa',\n",
       " '거/Noun',\n",
       " '라고/Josa',\n",
       " '본다/Verb',\n",
       " './Punctuation',\n",
       " \"'/Punctuation\",\n",
       " '같은/Adjective',\n",
       " '뉴스/Noun',\n",
       " '댓글/Noun',\n",
       " '좋아요/Adjective',\n",
       " '누른것을/Verb',\n",
       " '보면요/Verb',\n",
       " '다음/Noun',\n",
       " '은/Josa',\n",
       " '좋아/Adjective',\n",
       " '요가/Noun',\n",
       " '10/Number',\n",
       " '배/Noun',\n",
       " '네이버/Noun',\n",
       " '는/Josa',\n",
       " '싫어/Adjective',\n",
       " '요가/Noun',\n",
       " '5/Number',\n",
       " '배/Noun',\n",
       " '되는데/Verb',\n",
       " '이제/Noun',\n",
       " '는/Josa',\n",
       " '트루/Noun',\n",
       " '킹/Noun',\n",
       " '이/Josa',\n",
       " '다음/Noun',\n",
       " '으로/Josa',\n",
       " '간듯/Verb',\n",
       " '합니다/Verb',\n",
       " '뉴스/Noun',\n",
       " '는/Josa',\n",
       " '김경수/Noun',\n",
       " '가/Josa',\n",
       " '100만원/Number',\n",
       " '씩/Foreign',\n",
       " '주/Modifier',\n",
       " '자고/Noun',\n",
       " '한/Determiner',\n",
       " '것/Noun',\n",
       " '요/Josa',\n",
       " \"'/Punctuation\",\n",
       " '이재웅/Noun',\n",
       " '이/Josa',\n",
       " '친노/Noun',\n",
       " '돌/Noun',\n",
       " '과/Josa',\n",
       " '짬짜미/Noun',\n",
       " '한/Josa',\n",
       " '것/Noun',\n",
       " '으로/Josa',\n",
       " '\\n/Foreign',\n",
       " '의심/Noun',\n",
       " '됨/Verb',\n",
       " \"'/Punctuation\",\n",
       " '공유/Noun',\n",
       " '합니다/Verb',\n",
       " '!/Punctuation',\n",
       " '감사합니다/Verb',\n",
       " \"'/Punctuation\",\n",
       " '타다/Verb',\n",
       " '금지법/Noun',\n",
       " '통과/Noun',\n",
       " '\\n/Foreign',\n",
       " '너무/Adverb',\n",
       " '잘/VerbPrefix',\n",
       " '됐네요/Verb',\n",
       " '^^/Punctuation']"
      ]
     },
     "execution_count": 84,
     "metadata": {},
     "output_type": "execute_result"
    }
   ],
   "source": [
    "# 명사, 조사 각 품사들 찾아내기\n",
    "okt.pos(com_txt, join=True)"
   ]
  },
  {
   "cell_type": "code",
   "execution_count": 86,
   "metadata": {},
   "outputs": [
    {
     "name": "stdout",
     "output_type": "stream",
     "text": [
      "['사람', '들', '이', '모르는', '거', '...', '자가용', '운전자', '가', '자신', '이', '아는', '사람', '태우고', '갈', '경우', ',', '사고', '가', '나면', '승차', '인원', '전원', '이', '보험', '혜택', '을', '받음', '.', '헌데', '흔히', '나라시', '라고', '모르는', '사람', '을', '태워', '줬을', '경우', ',', '돈', '을', '받았건', '안', '받았건', '사고', '나면', '운전자', '본인', '외', '에', '보험', '혜택', '을', '못', '받음', '...', '카톡', '으로', '같은', '방향', '태워주고', '나누는', '삶', '좋은', '삶', '이', '아니라', '사고', '나도', '보험', '혜택', '을', '못', '받는', '삶임', '.....', '이럴려면', '택시', '면허증', '은', '왜', '발급', '하는데', \"?'\", '기사', '가', '운전', '하는', '타다는', '택시', '와', '달리', '승객', '의', '지위', '가', '서비스', '를', '받는', '손님', '이', '아니라', '기사', '를', '고용', '한', '고용주', '입니다', '.', '기사', '와', '렌트카', '의', '보상', '범위', '가', '넘는', '사고', '유발', '시', '문제', '가', '발생', '할', '수', '있죠', \".'\", '최소한', '의', '규칙', '까지도', '무너', '뜨리', '려', '는', '행위', '\\n', '하는', '짓', '들이', '하나같이', '문', '제', '투성이', '네', '요', \"'\", '타다', '\\n', '잘', '몰랐는데', '\\n', '야메', '\\n', '한', '방', '에', '알았네요', '~~~', '꾸벅', '\\'\"', '타다', '\"', '잘', '몰랐는데', ',', '이쯤', '되면', '타다', '국정조사', '해야', '되는', '것', '아닌가', '?', '뭔가', '검은', '돈', '이', '오간', '악취', '가', '난다', \".'\", '타다', '법', '법', '사위', '통과', '는', '불법', '편법', '을', '4', '차', '산업', '이라는', '말', '을', '내세워', '합법', '화', '처럼', '운영', '하려', '했던', '모호했던', '법안', '을', '정리', '한', '합리', '적', '인', '법', '이라고', '본다', '.', '당연히', '여객운송', '법', '으로', '모든', '사업자', '가', '법', '에의', '해', '사업', '을', '하고있는데', '랜터카', '의', '모호한', '법', '을', '찾아내', '마치', '4', '차', '산업', '이란', '말로', '무임', '승차', '하려던', '타다', '법', '이', '정리', '된건', '잘', '된', '일이', '라', '본다', '.', '죽긴', '왜', '죽냐', '공', '꺼', '로', '할', '려', '니깐', '그렇지', '제도', '권', '총량제', '틀속', '에서', '하면', '되잖아', '면허', '를', '사던지', '그것', '도', '아까우면', '택시', '랑', '가맹', '을', '맺어서', '하던지', '그것', '도', '싫으', '연', '면허', '를', '지', '입', '형태', '로', '받아', '들이고', '임대료', '주면서', '기사', '따로', '고용', '을', '해서', '하던지', '1', '세대', '벤', '처', '김희애', '남편', '이찬진', '이', '그랬잖아', '20', '대', '국회', '서', '가장', '잘', '한', '일이', '타다', '금지법', '법', '사위', '통과', '한', '거', '라고', '본다', '.', \"'\", '같은', '뉴스', '댓글', '좋아요', '누른것을', '보면요', '다음', '은', '좋아', '요가', '10', '배', '네이버', '는', '싫어', '요가', '5', '배', '되는데', '이제', '는', '트루', '킹', '이', '다음', '으로', '간듯', '합니다', '뉴스', '는', '김경수', '가', '100만원', '씩', '주', '자고', '한', '것', '요', \"'\", '이재웅', '이', '친노', '돌', '과', '짬짜미', '한', '것', '으로', '\\n', '의심', '됨', \"'\", '공유', '합니다', '!', '감사합니다', \"'\", '타다', '금지법', '통과', '\\n', '너무', '잘', '됐네요', '^^']\n"
     ]
    }
   ],
   "source": [
    "# 형태소 추출 하기. norm 은 문장 정규화 stem 은 어간 추출\n",
    "print(okt.morphs(com_txt, norm=True))"
   ]
  },
  {
   "cell_type": "code",
   "execution_count": 88,
   "metadata": {},
   "outputs": [
    {
     "name": "stdout",
     "output_type": "stream",
     "text": [
      "['사람들', '자가용', '자가용 운전자', '자신', '사람', '경우', '사고', '승차인원', '승차인원 전원', '보험혜택', '나라시', '안 받았건 사고', '안 받았건 사고 나면 운전자', '안 받았건 사고 나면 운전자 본인', '안 받았건 사고 나면 운전자 본인 외', '카톡', '같은 방향', '삶 좋은 삶', '보험', '보험 혜택', '못 받는 삶임', '이럴려면   택시면허증', '왜 발급', '기사', '운전', '운전하는 타다는 택시', '운전하는 타다는 택시와 달리', '운전하는 타다는 택시와 달리 승객', '서비스', '손님', '고용', '고용주', '기사와 렌트카', '기사와 렌트카의 보상범위', '사고 유발시', '사고 유발시 문제', '발생', '발생 할 수', '최소한', '최소한의 규칙', '무너', '행위', '문제투성이네', '야메', '한방', '꾸벅', '이쯤', '국정조사', '뭔가', '뭔가 검은 돈', '악취', '법 법사위', '법 법사위 통과', '불법편법', '4차산업', '합법화', '운영', '모호했던 법안', '정리', '여객운송법', '모든', '모든 사업자', '해 사업', '랜터카', '랜터카의 모호한 법', '마치', '마치 4차산업', '말로', '말로 무임승차', '정리된건 잘', '정리된건 잘된일이', '공꺼', '제도권', '제도권 총량제', '제도권 총량제 틀속', '면허', '그것', '아까우면 택시', '가맹', '연 면허', '지입형태', '임대료', '1세대', '1세대 벤처', '1세대 벤처 김희애', '1세대 벤처 김희애 남편', '1세대 벤처 김희애 남편 이찬진', '20', '국회', '가장', '가장 잘한일이', '금지법', '금지법 법사위', '금지법 법사위 통과', '같은뉴스', '같은뉴스 댓글', '다음', '요가', '요가 10배', '요가 10배 네이버', '요가 5배', '이제', '트루킹', '뉴스', '김경수', '100만원', '주자고한것', '이재웅', '친노돌', '친노돌과 짬짜미', '의심', '공유', '금지법 통과', '운전자', '승차', '인원', '전원', '혜택', '본인', '방향', '삶임', '택시', '면허증', '발급', '달리', '승객', '지위', '렌트카', '보상', '범위', '유발', '문제', '규칙', '사위', '통과', '불법', '편법', '산업', '법안', '여객운송', '사업자', '사업', '무임', '일이', '총량제', '틀속', '지입', '형태', '세대', '김희애', '남편', '이찬진', '한일이', '댓글', '10', '네이버', '트루', '주자고', '한것', '친노', '짬짜미']\n"
     ]
    }
   ],
   "source": [
    "# 어절 추출\n",
    "print(okt.phrases(com_txt))"
   ]
  },
  {
   "cell_type": "code",
   "execution_count": 90,
   "metadata": {},
   "outputs": [
    {
     "name": "stdout",
     "output_type": "stream",
     "text": [
      "['사람', '거', '자가용', '운전자', '자신', '경우', '사고', '승차', '승차인원', '인원', '전원', '보험', '보험혜택', '혜택', '헌데', '나라시', '돈', '본인', '외', '으', '방향', '삶', '나도', '삶임', '임', '이', '이럴려', '럴려', '택시', '택시면허증', '면허증', '발급', '기사', '운전', '승객', '지위', '서비스', '손님', '고용', '고용주', '렌트카', '보상', '보상범위', '범위', '유발', '문제', '발생', '수', '최소한', '규칙', '행위', '짓', '문제', '야', '한방', '국정', '국정조사', '조사', '돈', '악취', '법', '법사위', '통과', '불법', '불법편법', '편법', '4', '4차산업', '차', '산업', '말', '합법화', '운영', '법안', '정리', '합리적', '여객', '여객운송법', '운송법', '모든', '사업자', '사업', '데', '랜', '랜터카', '터', '카', '내', '마', '무임승차', '하려', '하려던', '던', '법이', '일', '공', '공꺼', '꺼', '할려', '제도권', '총량', '틀', '틀속', '속', '면허', '그것', '택시', '가맹', '맺어', '싫으', '싫으연', '연', '지', '지입형태', '입', '형태', '임대료', '기사', '고용', '1', '1세대', '세대', '벤처', '김희', '김희애', '애', '남편', '이찬', '이찬진이', '진이', '20', '20대', '대', '국회', '일', '금', '금지법', '지법', '법사위', '통과', '거', '뉴스', '댓', '댓글', '글', '다음', '요가', '10', '10배', '배', '네이버', '5', '5배', '이제', '트루킹', '김', '김경수', '경수', '100', '100만원', '만원', '주자', '이재', '이재웅', '웅', '노', '노돌과', '돌과', '짬짜미', '의심', '공유', '감사', '금', '금지법', '지법', '통과']\n"
     ]
    }
   ],
   "source": [
    "# 만약 각 줄별로 동일한 단어가 나올 경우 제거 하고 싶을 때\n",
    "# 라인별로 읽어야 하기 때문에  open -> readline을 쓴다.\n",
    "# com_txt readlines로 다시 읽음. 내용은 같음..\n",
    "com_txt = open('wtest_samlpe.txt').readlines()\n",
    "duplicate_comment = []\n",
    "for i in com_txt:\n",
    "    duplicate_comment1 = kkma.nouns(i)\n",
    "    for j in range(0,len(duplicate_comment1)):\n",
    "        duplicate_comment.append(duplicate_comment1[j])\n",
    "print(duplicate_comment)    "
   ]
  },
  {
   "cell_type": "code",
   "execution_count": 93,
   "metadata": {},
   "outputs": [
    {
     "name": "stdout",
     "output_type": "stream",
     "text": [
      "Counter({'통과': 3, '거': 2, '돈': 2, '택시': 2, '기사': 2, '고용': 2, '문제': 2, '법사위': 2, '일': 2, '금': 2, '금지법': 2, '지법': 2, '사람': 1, '자가용': 1, '운전자': 1, '자신': 1, '경우': 1, '사고': 1, '승차': 1, '승차인원': 1, '인원': 1, '전원': 1, '보험': 1, '보험혜택': 1, '혜택': 1, '헌데': 1, '나라시': 1, '본인': 1, '외': 1, '으': 1, '방향': 1, '삶': 1, '나도': 1, '삶임': 1, '임': 1, '이': 1, '이럴려': 1, '럴려': 1, '택시면허증': 1, '면허증': 1, '발급': 1, '운전': 1, '승객': 1, '지위': 1, '서비스': 1, '손님': 1, '고용주': 1, '렌트카': 1, '보상': 1, '보상범위': 1, '범위': 1, '유발': 1, '발생': 1, '수': 1, '최소한': 1, '규칙': 1, '행위': 1, '짓': 1, '야': 1, '한방': 1, '국정': 1, '국정조사': 1, '조사': 1, '악취': 1, '법': 1, '불법': 1, '불법편법': 1, '편법': 1, '4': 1, '4차산업': 1, '차': 1, '산업': 1, '말': 1, '합법화': 1, '운영': 1, '법안': 1, '정리': 1, '합리적': 1, '여객': 1, '여객운송법': 1, '운송법': 1, '모든': 1, '사업자': 1, '사업': 1, '데': 1, '랜': 1, '랜터카': 1, '터': 1, '카': 1, '내': 1, '마': 1, '무임승차': 1, '하려': 1, '하려던': 1, '던': 1, '법이': 1, '공': 1, '공꺼': 1, '꺼': 1, '할려': 1, '제도권': 1, '총량': 1, '틀': 1, '틀속': 1, '속': 1, '면허': 1, '그것': 1, '가맹': 1, '맺어': 1, '싫으': 1, '싫으연': 1, '연': 1, '지': 1, '지입형태': 1, '입': 1, '형태': 1, '임대료': 1, '1': 1, '1세대': 1, '세대': 1, '벤처': 1, '김희': 1, '김희애': 1, '애': 1, '남편': 1, '이찬': 1, '이찬진이': 1, '진이': 1, '20': 1, '20대': 1, '대': 1, '국회': 1, '뉴스': 1, '댓': 1, '댓글': 1, '글': 1, '다음': 1, '요가': 1, '10': 1, '10배': 1, '배': 1, '네이버': 1, '5': 1, '5배': 1, '이제': 1, '트루킹': 1, '김': 1, '김경수': 1, '경수': 1, '100': 1, '100만원': 1, '만원': 1, '주자': 1, '이재': 1, '이재웅': 1, '웅': 1, '노': 1, '노돌과': 1, '돌과': 1, '짬짜미': 1, '의심': 1, '공유': 1, '감사': 1})\n"
     ]
    }
   ],
   "source": [
    "# 문장별 중복 단어를 제거하고 빈도수 확인\n",
    "duplicate_comment_freq = Counter(duplicate_comment)\n",
    "print(duplicate_comment_freq)"
   ]
  },
  {
   "cell_type": "code",
   "execution_count": 95,
   "metadata": {},
   "outputs": [],
   "source": [
    "# 두 단어 이상의 글자만 선택하기\n",
    "rm_dupl = []\n",
    "for i in duplicate_comment:\n",
    "    if len(i) >= 2:\n",
    "        rm_dupl.append(i)"
   ]
  },
  {
   "cell_type": "code",
   "execution_count": 97,
   "metadata": {},
   "outputs": [
    {
     "name": "stdout",
     "output_type": "stream",
     "text": [
      "['사람', '자가용', '운전자', '자신', '경우', '사고', '승차', '승차인원', '인원', '전원', '보험', '보험혜택', '혜택', '헌데', '나라시', '본인', '방향', '나도', '삶임', '이럴려', '럴려', '택시', '택시면허증', '면허증', '발급', '기사', '운전', '승객', '지위', '서비스', '손님', '고용', '고용주', '렌트카', '보상', '보상범위', '범위', '유발', '문제', '발생', '최소한', '규칙', '행위', '문제', '한방', '국정', '국정조사', '조사', '악취', '법사위', '통과', '불법', '불법편법', '편법', '4차산업', '산업', '합법화', '운영', '법안', '정리', '합리적', '여객', '여객운송법', '운송법', '모든', '사업자', '사업', '랜터카', '무임승차', '하려', '하려던', '법이', '공꺼', '할려', '제도권', '총량', '틀속', '면허', '그것', '택시', '가맹', '맺어', '싫으', '싫으연', '지입형태', '형태', '임대료', '기사', '고용', '1세대', '세대', '벤처', '김희', '김희애', '남편', '이찬', '이찬진이', '진이', '20', '20대', '국회', '금지법', '지법', '법사위', '통과', '뉴스', '댓글', '다음', '요가', '10', '10배', '네이버', '5배', '이제', '트루킹', '김경수', '경수', '100', '100만원', '만원', '주자', '이재', '이재웅', '노돌과', '돌과', '짬짜미', '의심', '공유', '감사', '금지법', '지법', '통과']\n"
     ]
    }
   ],
   "source": [
    "print(rm_dupl)"
   ]
  },
  {
   "cell_type": "code",
   "execution_count": 101,
   "metadata": {},
   "outputs": [
    {
     "name": "stdout",
     "output_type": "stream",
     "text": [
      "[('통과', 3), ('택시', 2), ('기사', 2), ('고용', 2), ('문제', 2), ('법사위', 2), ('금지법', 2), ('지법', 2), ('사람', 1), ('자가용', 1)]\n"
     ]
    }
   ],
   "source": [
    "# 단어별 빈도수 집계 최종\n",
    "result_freq = Counter(rm_dupl)\n",
    "result_freq_mc = result_freq.most_common(10)\n",
    "result_freq_mc_dict = dict(result_freq_mc)\n",
    "print(result_freq_mc)"
   ]
  },
  {
   "cell_type": "code",
   "execution_count": 114,
   "metadata": {},
   "outputs": [
    {
     "data": {
      "image/png": "[encoded data removed]",
      "text/plain": [
       "<Figure size 576x288 with 1 Axes>"
      ]
     },
     "metadata": {},
     "output_type": "display_data"
    }
   ],
   "source": [
    "# 워드크라우드. 서버 상에서 한글 글꼴이 깨져 작업 폴더에 D2 coding 폰트 넣음\n",
    "wordcloud = WordCloud(font_path = 'D2Coding.ttc',relative_scaling=0.5, background_color=\"white\").generate_from_frequencies(result_freq_mc_dict)\n",
    "plt.figure(figsize=(8,4))\n",
    "plt.imshow(wordcloud)\n",
    "plt.axis('off')\n",
    "plt.show()"
   ]
  },
  {
   "cell_type": "code",
   "execution_count": 122,
   "metadata": {},
   "outputs": [],
   "source": [
    "# 위 결과로 보았을 때 통과, 문제, 기사등이 많이 언급 되었음을 알 수 있다. \n",
    "# 택시와 고용 두 단어가 언급 된걸로 보아 택시 기사와 타다 운전자의 고용 문제 대립 관련 얘기가 있지 않을까 추측해본다."
   ]
  },
  {
   "cell_type": "code",
   "execution_count": 116,
   "metadata": {},
   "outputs": [],
   "source": [
    "import nltk #파이썬 자연어 처리에서 유명한 패키지라고 한다... 몰랐..\n",
    "from nltk.probability import FreqDist # 빈도수 구하는 패키지"
   ]
  },
  {
   "cell_type": "code",
   "execution_count": 121,
   "metadata": {},
   "outputs": [
    {
     "data": {
      "image/png": "[encoded data removed]",
      "text/plain": [
       "<Figure size 1440x720 with 1 Axes>"
      ]
     },
     "metadata": {},
     "output_type": "display_data"
    },
    {
     "data": {
      "text/plain": [
       "<matplotlib.axes._subplots.AxesSubplot at 0x7fbe08232b00>"
      ]
     },
     "execution_count": 121,
     "metadata": {},
     "output_type": "execute_result"
    }
   ],
   "source": [
    "# font는 서버에 d2Coding 설치하면 될듯.... 조금 이따가...\n",
    "font_location = \"D2Coding.ttc\"\n",
    "font_name = font_manager.FontProperties(fname=font_location).get_name()\n",
    "matplotlib.rc('font',family=font_name)\n",
    "plt.figure(figsize=(20,10))\n",
    "\n",
    "\n",
    "graph_comm = FreqDist(rm_dupl) # 두 단어 이상의 글자만 선택한 데이터에서 빈도수 구하고\n",
    "graph_comm.plot(10) # 그려주기"
   ]
  },
  {
   "cell_type": "code",
   "execution_count": null,
   "metadata": {},
   "outputs": [],
   "source": []
  }
 ],
 "metadata": {
  "kernelspec": {
   "display_name": "Python 3",
   "language": "python",
   "name": "python3"
  },
  "language_info": {
   "codemirror_mode": {
    "name": "ipython",
    "version": 3
   },
   "file_extension": ".py",
   "mimetype": "text/x-python",
   "name": "python",
   "nbconvert_exporter": "python",
   "pygments_lexer": "ipython3",
   "version": "3.7.4"
  }
 },
 "nbformat": 4,
 "nbformat_minor": 4
}
