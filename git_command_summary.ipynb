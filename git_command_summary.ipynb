{
 "cells": [
  {
   "cell_type": "markdown",
   "metadata": {},
   "source": [
    "git hub 명령어 정리"
   ]
  },
  {
   "cell_type": "code",
   "execution_count": null,
   "metadata": {},
   "outputs": [],
   "source": []
  },
  {
   "cell_type": "markdown",
   "metadata": {},
   "source": [
    "### fizzbuzz-together\n",
    " \n",
    "#### 팀장\n",
    "1. 새로운 repo를 생성한다.\n",
    "2. $ git clone { 주소 }\n",
    "3. $ git checkout -b develop\n",
    "4. $ touch fizzbuzz.py -> git add, commit, push to develop\n",
    " \n",
    "## 팀원\n",
    "1. 팀장의 repo를 fork 한다.\n",
    "2. fork 한 나의 repo를 clone 한다.\n",
    "3. 팀장 repo의 주소를 pmorigin 으로 추가한다. ($ git remote add pmorigin { 주소 })\n",
    "4. $ git checkout -b develop\n",
    "\n",
    "5. $ git checkout -b feature/ { 작업할 기능 } 하여 해당 브랜치 위에서 작업\n",
    "6. $ git add, commit, push to feature/ { 작업할 기능 }\n",
    "7. $ git checkout develop && git merge feature/{ 작업할 기능 }\n",
    "8. `merge 된 내용을 $ git push origin develop`\n",
    "9. github에서 issue 생성\n",
    "10. github에서 create pull request\n",
    " \n",
    "## 팀장\n",
    "2-1. 들어온 pull request를 조회한다.\n",
    "2-2. merge 하거나 reject한다.\n",
    " \n",
    "## 팀원\n",
    "2-1. update된 팀장 repo의 develop을 pull 하여 재작업"
   ]
  },
  {
   "cell_type": "markdown",
   "metadata": {},
   "source": [
    "#### 리모트 저장소 생성하기\n",
    "\n",
    "git remote\n",
    "\n",
    "- url 주소 보기\n",
    "git remote -v\n",
    "\n",
    "- checkout 으로 사용자 하나 더 만들기(개념 잘 모르겠음)\n",
    "- 브랜치 작성과 체크아웃 하는 기능 :\n",
    "git checkout -b feature\n",
    "git checkout -b developer\n",
    "\n",
    "- 브랜치 변경 :\n",
    "git feature\n",
    "git developer\n",
    "\n",
    "- 저장소에서 데이터 가져오기 :\n",
    "git fetch\n",
    "\n",
    "- 저장소에서 데이터 가져오고 다른 브랜치에 넣고 싶을 때 :\n",
    "git fetch developer\n",
    "git fetch feature\n",
    "\n",
    "- 리모트 저장소 추가하기\n",
    "- 본인이 origin인 최초 저장소이외에 다른 저장소를 추가해야하는 경우 :\n",
    "git remote add 단축이름 주소\n",
    "git reomte add crawl 주소\n",
    "\n",
    "- 리모트 저장소 살펴보기 :\n",
    "git remote show\n",
    "\n",
    "- 리모트 저장소 이름 변경 :\n",
    "git remote rename crawal regression\n",
    "\n",
    "- 리모트 저장소 삭제 :\n",
    "git remote remove regression\n",
    "\n",
    "- 리모트 저장소에 push 하기 :\n",
    "git push 리모트저장소이름 브랜치이름\n",
    " git push crawal feature\n",
    " \n",
    "- 리모트 저장소에서 로컬 저상소로 pull 하기 :\n",
    "git pull crawal feature\n",
    "\n"
   ]
  },
  {
   "cell_type": "code",
   "execution_count": null,
   "metadata": {},
   "outputs": [],
   "source": []
  }
 ],
 "metadata": {
  "kernelspec": {
   "display_name": "Python 3",
   "language": "python",
   "name": "python3"
  },
  "language_info": {
   "codemirror_mode": {
    "name": "ipython",
    "version": 3
   },
   "file_extension": ".py",
   "mimetype": "text/x-python",
   "name": "python",
   "nbconvert_exporter": "python",
   "pygments_lexer": "ipython3",
   "version": "3.7.4"
  }
 },
 "nbformat": 4,
 "nbformat_minor": 2
}
