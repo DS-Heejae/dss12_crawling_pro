{
 "cells": [
  {
   "cell_type": "code",
   "execution_count": 1,
   "metadata": {},
   "outputs": [],
   "source": [
    "import requests\n",
    "import time\n",
    "import scrapy\n",
    "\n",
    "from selenium import webdriver\n",
    "from selenium.webdriver.chrome.options import Options\n",
    "from selenium.webdriver.common.keys import Keys\n",
    "from scrapy.http import TextResponse"
   ]
  },
  {
   "cell_type": "markdown",
   "metadata": {},
   "source": [
    "### 1) 유투브 첫 화면에서 '타다금지법' 검색하여, 이번 주에 업로드된 동영상 제목, url 가져오기"
   ]
  },
  {
   "cell_type": "code",
   "execution_count": 2,
   "metadata": {},
   "outputs": [],
   "source": [
    "# 링크\n",
    "url = \"https://www.youtube.com/\"\n",
    "driver=webdriver.Chrome()\n",
    "driver.get(url)\n",
    "\n",
    "req = requests.get(url)\n",
    "response = TextResponse(req.url, body=req.text, encoding=\"utf-8\")"
   ]
  },
  {
   "cell_type": "code",
   "execution_count": 7,
   "metadata": {},
   "outputs": [],
   "source": [
    "driver.find_element_by_xpath('//*[@id=\"search\"]').send_keys(\"타다금지법\")\n",
    "driver.find_element_by_xpath('//*[@id=\"search-icon-legacy\"]').click()"
   ]
  },
  {
   "cell_type": "code",
   "execution_count": 8,
   "metadata": {},
   "outputs": [],
   "source": [
    "# 이번주 필터링\n",
    "driver.find_element_by_xpath('//*[@id=\"container\"]/ytd-toggle-button-renderer/a').click()"
   ]
  },
  {
   "cell_type": "code",
   "execution_count": 4,
   "metadata": {},
   "outputs": [],
   "source": [
    "# title, link 가져오기\n",
    "#titles=driver.find_elements_by_xpath('//*[@id=\"video-title\"]')\n",
    "#len(titles)"
   ]
  },
  {
   "cell_type": "code",
   "execution_count": 9,
   "metadata": {},
   "outputs": [
    {
     "data": {
      "text/plain": [
       "'https://www.youtube.com/watch?v=nBg5zZx-5_M'"
      ]
     },
     "execution_count": 9,
     "metadata": {},
     "output_type": "execute_result"
    }
   ],
   "source": [
    "link=driver.find_elements_by_xpath('//*[contains (@href, \"/watch?\")]')\n",
    "link[1].get_attribute('href')"
   ]
  },
  {
   "cell_type": "markdown",
   "metadata": {},
   "source": [
    "### 2) 각 동영상 상세 링크 접속하여 댓글 남긴 사람 id, comment 가져오기"
   ]
  },
  {
   "cell_type": "code",
   "execution_count": 10,
   "metadata": {},
   "outputs": [],
   "source": [
    "url = link[1].get_attribute('href')\n",
    "driver=webdriver.Chrome()\n",
    "driver.get(url)"
   ]
  },
  {
   "cell_type": "code",
   "execution_count": 11,
   "metadata": {},
   "outputs": [],
   "source": [
    "body = driver.find_element_by_tag_name('body')\n",
    "\n",
    "num_of_pagedowns = 20\n",
    "\n",
    "while num_of_pagedowns:\n",
    "    body.send_keys(Keys.PAGE_DOWN)\n",
    "    time.sleep(1)\n",
    "    num_of_pagedowns -= 1"
   ]
  },
  {
   "cell_type": "code",
   "execution_count": 12,
   "metadata": {},
   "outputs": [
    {
     "data": {
      "text/plain": [
       "55"
      ]
     },
     "execution_count": 12,
     "metadata": {},
     "output_type": "execute_result"
    }
   ],
   "source": [
    "comments = driver.find_elements_by_css_selector('#content-text')\n",
    "len(comments)"
   ]
  },
  {
   "cell_type": "code",
   "execution_count": 13,
   "metadata": {},
   "outputs": [
    {
     "data": {
      "text/plain": [
       "'끝까지  염치없는  두인간 그저먹을려고 나쁜놈  누가  하지마라  하는것도 아닌데  통째로 먹으려고 하면 안되요  제도권안으로 들어와서 하면됩니다 무임승차 염치없는 사기꾼 생각만하지말고날도독느아'"
      ]
     },
     "execution_count": 13,
     "metadata": {},
     "output_type": "execute_result"
    }
   ],
   "source": [
    "comments[2].text"
   ]
  },
  {
   "cell_type": "code",
   "execution_count": 14,
   "metadata": {},
   "outputs": [
    {
     "data": {
      "text/plain": [
       "55"
      ]
     },
     "execution_count": 14,
     "metadata": {},
     "output_type": "execute_result"
    }
   ],
   "source": [
    "user_ids = driver.find_elements_by_css_selector('#author-text > span')\n",
    "len(user_ids)"
   ]
  },
  {
   "cell_type": "code",
   "execution_count": 15,
   "metadata": {},
   "outputs": [
    {
     "data": {
      "text/plain": [
       "'Sang Won Lee'"
      ]
     },
     "execution_count": 15,
     "metadata": {},
     "output_type": "execute_result"
    }
   ],
   "source": [
    "user_ids[50].text"
   ]
  },
  {
   "cell_type": "code",
   "execution_count": 16,
   "metadata": {},
   "outputs": [
    {
     "data": {
      "text/html": [
       "<div>\n",
       "<style scoped>\n",
       "    .dataframe tbody tr th:only-of-type {\n",
       "        vertical-align: middle;\n",
       "    }\n",
       "\n",
       "    .dataframe tbody tr th {\n",
       "        vertical-align: top;\n",
       "    }\n",
       "\n",
       "    .dataframe thead th {\n",
       "        text-align: right;\n",
       "    }\n",
       "</style>\n",
       "<table border=\"1\" class=\"dataframe\">\n",
       "  <thead>\n",
       "    <tr style=\"text-align: right;\">\n",
       "      <th></th>\n",
       "      <th>name</th>\n",
       "      <th>comment</th>\n",
       "    </tr>\n",
       "  </thead>\n",
       "  <tbody>\n",
       "    <tr>\n",
       "      <th>0</th>\n",
       "      <td>kms8964</td>\n",
       "      <td>타다차량이1500대인데 기사가 10000명이면 차한대당 10명한달에 한분에기사가 3...</td>\n",
       "    </tr>\n",
       "    <tr>\n",
       "      <th>1</th>\n",
       "      <td>이기만</td>\n",
       "      <td>나라가  어찌해서  타다갓은  회사한태 후둘리는지 이건  말두안되는  사업이지</td>\n",
       "    </tr>\n",
       "    <tr>\n",
       "      <th>2</th>\n",
       "      <td>우정길</td>\n",
       "      <td>끝까지  염치없는  두인간 그저먹을려고 나쁜놈  누가  하지마라  하는것도 아닌데 ...</td>\n",
       "    </tr>\n",
       "    <tr>\n",
       "      <th>3</th>\n",
       "      <td>김삿갓ᆞ</td>\n",
       "      <td>타다 1500대인데 기사가 12000명 이면 차한대에 기사가 10명정도 라는 말인데...</td>\n",
       "    </tr>\n",
       "    <tr>\n",
       "      <th>4</th>\n",
       "      <td>남짱</td>\n",
       "      <td>이재웅을구속수아하라</td>\n",
       "    </tr>\n",
       "    <tr>\n",
       "      <th>5</th>\n",
       "      <td>이창우</td>\n",
       "      <td>멍멍멍 \\n카니발한대 가져와\\n사줄게</td>\n",
       "    </tr>\n",
       "    <tr>\n",
       "      <th>6</th>\n",
       "      <td>김태훈</td>\n",
       "      <td>불법 콜뛰기는 죄를 받아라</td>\n",
       "    </tr>\n",
       "    <tr>\n",
       "      <th>7</th>\n",
       "      <td>Young</td>\n",
       "      <td>타다 너무 양심없었지</td>\n",
       "    </tr>\n",
       "    <tr>\n",
       "      <th>8</th>\n",
       "      <td>노용균</td>\n",
       "      <td>언론을장학한 정부 법도없는정부 여론몰이 선수 나라를홀난하게하는 정부</td>\n",
       "    </tr>\n",
       "    <tr>\n",
       "      <th>9</th>\n",
       "      <td>마을</td>\n",
       "      <td>신천지와 타다는 사회를 좀 먹는 사이비다.</td>\n",
       "    </tr>\n",
       "    <tr>\n",
       "      <th>10</th>\n",
       "      <td>김 경용</td>\n",
       "      <td>불법은사라져야죠!</td>\n",
       "    </tr>\n",
       "    <tr>\n",
       "      <th>11</th>\n",
       "      <td>이승복</td>\n",
       "      <td>누구닮아 양아치 짓거리만 하드만 잘됐다.노블리스오블리제!양아치가 돈많으면 이렇게 됩...</td>\n",
       "    </tr>\n",
       "    <tr>\n",
       "      <th>12</th>\n",
       "      <td>최세운</td>\n",
       "      <td>국난을 불감하는 국회 ! 개 ! 악 법의 독재 자 ! 문 재인! ! 속히 파면 하라!!!</td>\n",
       "    </tr>\n",
       "    <tr>\n",
       "      <th>13</th>\n",
       "      <td>가자go</td>\n",
       "      <td>이게나라냐?부정도나라가정당화시켜주나~!</td>\n",
       "    </tr>\n",
       "    <tr>\n",
       "      <th>14</th>\n",
       "      <td>김문용</td>\n",
       "      <td>그냥물러날놈들이아니다.여론몰이해서또다른무언가를진행중이겠지.하여튼머리좋은놈들은당할수가...</td>\n",
       "    </tr>\n",
       "    <tr>\n",
       "      <th>15</th>\n",
       "      <td>남짱</td>\n",
       "      <td>타다운전자법인택시일자리엄청나다</td>\n",
       "    </tr>\n",
       "    <tr>\n",
       "      <th>16</th>\n",
       "      <td>Wonryonh Kim</td>\n",
       "      <td>택시들 승차거부때문에  일어난거지 무슨일이겠어 택시양아치들 신바람났네 근데 어짜냐 ...</td>\n",
       "    </tr>\n",
       "    <tr>\n",
       "      <th>17</th>\n",
       "      <td>노용균</td>\n",
       "      <td>이제웅 대표사기꾼</td>\n",
       "    </tr>\n",
       "    <tr>\n",
       "      <th>18</th>\n",
       "      <td>마을</td>\n",
       "      <td>청와대타다금지법 대통령 거부대상 아니다.로 입장정리...</td>\n",
       "    </tr>\n",
       "    <tr>\n",
       "      <th>19</th>\n",
       "      <td>이호종</td>\n",
       "      <td>합법좋아하시네</td>\n",
       "    </tr>\n",
       "    <tr>\n",
       "      <th>20</th>\n",
       "      <td>이명근</td>\n",
       "      <td>노무현은 태광실업의 박연차가 있었고,\\n문제인은 소카의 이재용 유착관계를 조사해야 한다.</td>\n",
       "    </tr>\n",
       "    <tr>\n",
       "      <th>21</th>\n",
       "      <td>하늘소녀</td>\n",
       "      <td>다시한번강력하게투쟁을하여야합니다!</td>\n",
       "    </tr>\n",
       "    <tr>\n",
       "      <th>22</th>\n",
       "      <td>윤동학</td>\n",
       "      <td>타다는 나중에 딱지값 챙기려 한 사업이다..1500대면 대당 1억만 되도 1500억...</td>\n",
       "    </tr>\n",
       "    <tr>\n",
       "      <th>23</th>\n",
       "      <td>122156354643265745679869689678767</td>\n",
       "      <td>라이센서를 구입해서 정정당당하게 해주세요!!!!</td>\n",
       "    </tr>\n",
       "    <tr>\n",
       "      <th>24</th>\n",
       "      <td>노용균</td>\n",
       "      <td>돈한푼 투자안하고 그냥먹어 사기꾼들이나 하는수법 여론몰이나하는이재웅</td>\n",
       "    </tr>\n",
       "    <tr>\n",
       "      <th>25</th>\n",
       "      <td>슬푼미소</td>\n",
       "      <td>타다 오늘부터 안타</td>\n",
       "    </tr>\n",
       "    <tr>\n",
       "      <th>26</th>\n",
       "      <td>유리베</td>\n",
       "      <td>택시표</td>\n",
       "    </tr>\n",
       "    <tr>\n",
       "      <th>27</th>\n",
       "      <td>くかみ</td>\n",
       "      <td>ㅎㅎㅎㅎㅎ코로나가\\n설치는디 타다?\\n코로나타다ㅎㅎㅎㅎ올킬</td>\n",
       "    </tr>\n",
       "    <tr>\n",
       "      <th>28</th>\n",
       "      <td>이영감</td>\n",
       "      <td>택시회사에 차 팔어</td>\n",
       "    </tr>\n",
       "    <tr>\n",
       "      <th>29</th>\n",
       "      <td>슈퍼달구지</td>\n",
       "      <td>타다는 택시업계에 코로나 바이러스나 \\n마찬가지 이다..\\n더 퍼지기 전에 싹을 잘...</td>\n",
       "    </tr>\n",
       "    <tr>\n",
       "      <th>30</th>\n",
       "      <td>Andy K</td>\n",
       "      <td>ㅋㅋㅋㅋ 아니... 타다 얘네들이 뭐 안한다안한다했죠?? 중국 따이꿍들 공항에서 면...</td>\n",
       "    </tr>\n",
       "    <tr>\n",
       "      <th>31</th>\n",
       "      <td>Dongyu Lee</td>\n",
       "      <td>헌법 소원 해라...</td>\n",
       "    </tr>\n",
       "    <tr>\n",
       "      <th>32</th>\n",
       "      <td>부엉이오형제</td>\n",
       "      <td>불법 하지마</td>\n",
       "    </tr>\n",
       "    <tr>\n",
       "      <th>33</th>\n",
       "      <td>포푸라</td>\n",
       "      <td>부산만 하더라도 택시가 24000대인데\\n무분별하게 타다같은 업체가 렌탈카니발 증차...</td>\n",
       "    </tr>\n",
       "    <tr>\n",
       "      <th>34</th>\n",
       "      <td>눈꽃태풍</td>\n",
       "      <td>타다가 렌트업체지 택시회사냐. 불법은 맞자나. 꼼수 쓰고 그동안 불법으로 수익 올린...</td>\n",
       "    </tr>\n",
       "    <tr>\n",
       "      <th>35</th>\n",
       "      <td>레전드마스터</td>\n",
       "      <td>면허사서 합법적으로 할생각을해야지!!!\\n이게4차산업이러면 5차산업은 \\n판사,검사...</td>\n",
       "    </tr>\n",
       "    <tr>\n",
       "      <th>36</th>\n",
       "      <td>강수민KangSuMin</td>\n",
       "      <td>국회가 너무 늙었다..\\n\\n  🙆💬OMG!💨\\n  👕</td>\n",
       "    </tr>\n",
       "    <tr>\n",
       "      <th>37</th>\n",
       "      <td>임광춘</td>\n",
       "      <td>법 테두리 안에 살자 우리.</td>\n",
       "    </tr>\n",
       "    <tr>\n",
       "      <th>38</th>\n",
       "      <td>이성우</td>\n",
       "      <td>타다가 합법이면  인터넷 도박싸이트도  합법이다.\\n도독놈  씸뽀다      타다 ...</td>\n",
       "    </tr>\n",
       "    <tr>\n",
       "      <th>39</th>\n",
       "      <td>오렌지족</td>\n",
       "      <td>범죄자집단</td>\n",
       "    </tr>\n",
       "    <tr>\n",
       "      <th>40</th>\n",
       "      <td>김영식</td>\n",
       "      <td>기레기들 말대로라면\\n변호사자격증,의사자격증 이런게 무슨 필요가 있겠나?\\n기자자격...</td>\n",
       "    </tr>\n",
       "    <tr>\n",
       "      <th>41</th>\n",
       "      <td>심훈</td>\n",
       "      <td>문천치 비서관 출신이 타다 재웅이\\n밑에서 일한다!\\n씨바 불법을  묵인하더니? 재...</td>\n",
       "    </tr>\n",
       "    <tr>\n",
       "      <th>42</th>\n",
       "      <td>박정호</td>\n",
       "      <td>택시기사들 ㅋㅋ   천국이네   아직끝난건    아니다   서비스질   북한마냥  ...</td>\n",
       "    </tr>\n",
       "    <tr>\n",
       "      <th>43</th>\n",
       "      <td>불타는눈</td>\n",
       "      <td>타다가 불법이징 자격증도없는것들이 무슨 공유경제? 니미 욕나온다 젓같은것들아</td>\n",
       "    </tr>\n",
       "    <tr>\n",
       "      <th>44</th>\n",
       "      <td>Junsik JANG</td>\n",
       "      <td>입법을 할 때는 국민의 후생이 제일 먼저입니다. \\n\"타다\" 라는 질 좋은 서비스로...</td>\n",
       "    </tr>\n",
       "    <tr>\n",
       "      <th>45</th>\n",
       "      <td>김영식</td>\n",
       "      <td>사깃군 집단이라며...?\\n모두 감방에 넣어야 할듯</td>\n",
       "    </tr>\n",
       "    <tr>\n",
       "      <th>46</th>\n",
       "      <td>부엉이오형제</td>\n",
       "      <td>결국 정의는 살아있다</td>\n",
       "    </tr>\n",
       "    <tr>\n",
       "      <th>47</th>\n",
       "      <td>바츠08필연</td>\n",
       "      <td>1만2천 타다기사들은 너희가 실직자만든거여.기여금내고 면허받아 영업하면 실직자 읍잖...</td>\n",
       "    </tr>\n",
       "    <tr>\n",
       "      <th>48</th>\n",
       "      <td>Donguk Shin</td>\n",
       "      <td>1:06 에 주정차 금지 붙여져있는데 정차하는 택시 보소. 저러니 택시가 욕을 먹겠죠?</td>\n",
       "    </tr>\n",
       "    <tr>\n",
       "      <th>49</th>\n",
       "      <td>철혈린</td>\n",
       "      <td>타다 사업 할려믄 택시회사 면허를 사던지\\n개인택시 면허를 사던지 해야 한다고 생각...</td>\n",
       "    </tr>\n",
       "    <tr>\n",
       "      <th>50</th>\n",
       "      <td>Sang Won Lee</td>\n",
       "      <td>택시기사들 댓글봐랔ㅋㅋㅋ 택시에서 니네 아들 얘기하고 대통령 얘기하고 계속 그렇게 사세요</td>\n",
       "    </tr>\n",
       "    <tr>\n",
       "      <th>51</th>\n",
       "      <td>7베토벤</td>\n",
       "      <td>대중교통과 거리가 먼 관료와 의원이 뭘 알아서 입법을 하니마니 하나? \\n이용자의 ...</td>\n",
       "    </tr>\n",
       "    <tr>\n",
       "      <th>52</th>\n",
       "      <td>James k</td>\n",
       "      <td>한국의 미래는 없다, 국회의원들은 너무 보수적이고 혁신적이지 못해, 참신하지도 못하지</td>\n",
       "    </tr>\n",
       "    <tr>\n",
       "      <th>53</th>\n",
       "      <td>오렌지</td>\n",
       "      <td>응 택시안타 대리부를거야</td>\n",
       "    </tr>\n",
       "    <tr>\n",
       "      <th>54</th>\n",
       "      <td>liberty</td>\n",
       "      <td>현정권 좌파 국토교통부장관이랑 이거 표결한 장본인들이 더불어민주당 의원이다 이게 자...</td>\n",
       "    </tr>\n",
       "  </tbody>\n",
       "</table>\n",
       "</div>"
      ],
      "text/plain": [
       "                                 name  \\\n",
       "0                             kms8964   \n",
       "1                                 이기만   \n",
       "2                                 우정길   \n",
       "3                                김삿갓ᆞ   \n",
       "4                                  남짱   \n",
       "5                                 이창우   \n",
       "6                                 김태훈   \n",
       "7                               Young   \n",
       "8                                 노용균   \n",
       "9                                  마을   \n",
       "10                               김 경용   \n",
       "11                                이승복   \n",
       "12                                최세운   \n",
       "13                               가자go   \n",
       "14                                김문용   \n",
       "15                                 남짱   \n",
       "16                       Wonryonh Kim   \n",
       "17                                노용균   \n",
       "18                                 마을   \n",
       "19                                이호종   \n",
       "20                                이명근   \n",
       "21                               하늘소녀   \n",
       "22                                윤동학   \n",
       "23  122156354643265745679869689678767   \n",
       "24                                노용균   \n",
       "25                               슬푼미소   \n",
       "26                                유리베   \n",
       "27                                くかみ   \n",
       "28                                이영감   \n",
       "29                              슈퍼달구지   \n",
       "30                             Andy K   \n",
       "31                         Dongyu Lee   \n",
       "32                             부엉이오형제   \n",
       "33                                포푸라   \n",
       "34                               눈꽃태풍   \n",
       "35                             레전드마스터   \n",
       "36                       강수민KangSuMin   \n",
       "37                                임광춘   \n",
       "38                                이성우   \n",
       "39                               오렌지족   \n",
       "40                                김영식   \n",
       "41                                 심훈   \n",
       "42                                박정호   \n",
       "43                               불타는눈   \n",
       "44                        Junsik JANG   \n",
       "45                                김영식   \n",
       "46                             부엉이오형제   \n",
       "47                             바츠08필연   \n",
       "48                        Donguk Shin   \n",
       "49                                철혈린   \n",
       "50                       Sang Won Lee   \n",
       "51                               7베토벤   \n",
       "52                            James k   \n",
       "53                                오렌지   \n",
       "54                            liberty   \n",
       "\n",
       "                                              comment  \n",
       "0   타다차량이1500대인데 기사가 10000명이면 차한대당 10명한달에 한분에기사가 3...  \n",
       "1         나라가  어찌해서  타다갓은  회사한태 후둘리는지 이건  말두안되는  사업이지  \n",
       "2   끝까지  염치없는  두인간 그저먹을려고 나쁜놈  누가  하지마라  하는것도 아닌데 ...  \n",
       "3   타다 1500대인데 기사가 12000명 이면 차한대에 기사가 10명정도 라는 말인데...  \n",
       "4                                          이재웅을구속수아하라  \n",
       "5                                멍멍멍 \\n카니발한대 가져와\\n사줄게  \n",
       "6                                      불법 콜뛰기는 죄를 받아라  \n",
       "7                                         타다 너무 양심없었지  \n",
       "8               언론을장학한 정부 법도없는정부 여론몰이 선수 나라를홀난하게하는 정부  \n",
       "9                             신천지와 타다는 사회를 좀 먹는 사이비다.  \n",
       "10                                          불법은사라져야죠!  \n",
       "11  누구닮아 양아치 짓거리만 하드만 잘됐다.노블리스오블리제!양아치가 돈많으면 이렇게 됩...  \n",
       "12  국난을 불감하는 국회 ! 개 ! 악 법의 독재 자 ! 문 재인! ! 속히 파면 하라!!!  \n",
       "13                              이게나라냐?부정도나라가정당화시켜주나~!  \n",
       "14  그냥물러날놈들이아니다.여론몰이해서또다른무언가를진행중이겠지.하여튼머리좋은놈들은당할수가...  \n",
       "15                                   타다운전자법인택시일자리엄청나다  \n",
       "16  택시들 승차거부때문에  일어난거지 무슨일이겠어 택시양아치들 신바람났네 근데 어짜냐 ...  \n",
       "17                                          이제웅 대표사기꾼  \n",
       "18                    청와대타다금지법 대통령 거부대상 아니다.로 입장정리...  \n",
       "19                                            합법좋아하시네  \n",
       "20  노무현은 태광실업의 박연차가 있었고,\\n문제인은 소카의 이재용 유착관계를 조사해야 한다.  \n",
       "21                                 다시한번강력하게투쟁을하여야합니다!  \n",
       "22  타다는 나중에 딱지값 챙기려 한 사업이다..1500대면 대당 1억만 되도 1500억...  \n",
       "23                         라이센서를 구입해서 정정당당하게 해주세요!!!!  \n",
       "24              돈한푼 투자안하고 그냥먹어 사기꾼들이나 하는수법 여론몰이나하는이재웅  \n",
       "25                                         타다 오늘부터 안타  \n",
       "26                                                택시표  \n",
       "27                   ㅎㅎㅎㅎㅎ코로나가\\n설치는디 타다?\\n코로나타다ㅎㅎㅎㅎ올킬  \n",
       "28                                         택시회사에 차 팔어  \n",
       "29  타다는 택시업계에 코로나 바이러스나 \\n마찬가지 이다..\\n더 퍼지기 전에 싹을 잘...  \n",
       "30  ㅋㅋㅋㅋ 아니... 타다 얘네들이 뭐 안한다안한다했죠?? 중국 따이꿍들 공항에서 면...  \n",
       "31                                        헌법 소원 해라...  \n",
       "32                                             불법 하지마  \n",
       "33  부산만 하더라도 택시가 24000대인데\\n무분별하게 타다같은 업체가 렌탈카니발 증차...  \n",
       "34  타다가 렌트업체지 택시회사냐. 불법은 맞자나. 꼼수 쓰고 그동안 불법으로 수익 올린...  \n",
       "35  면허사서 합법적으로 할생각을해야지!!!\\n이게4차산업이러면 5차산업은 \\n판사,검사...  \n",
       "36                     국회가 너무 늙었다..\\n\\n  🙆💬OMG!💨\\n  👕  \n",
       "37                                    법 테두리 안에 살자 우리.  \n",
       "38  타다가 합법이면  인터넷 도박싸이트도  합법이다.\\n도독놈  씸뽀다      타다 ...  \n",
       "39                                              범죄자집단  \n",
       "40  기레기들 말대로라면\\n변호사자격증,의사자격증 이런게 무슨 필요가 있겠나?\\n기자자격...  \n",
       "41  문천치 비서관 출신이 타다 재웅이\\n밑에서 일한다!\\n씨바 불법을  묵인하더니? 재...  \n",
       "42  택시기사들 ㅋㅋ   천국이네   아직끝난건    아니다   서비스질   북한마냥  ...  \n",
       "43         타다가 불법이징 자격증도없는것들이 무슨 공유경제? 니미 욕나온다 젓같은것들아  \n",
       "44  입법을 할 때는 국민의 후생이 제일 먼저입니다. \\n\"타다\" 라는 질 좋은 서비스로...  \n",
       "45                       사깃군 집단이라며...?\\n모두 감방에 넣어야 할듯  \n",
       "46                                        결국 정의는 살아있다  \n",
       "47  1만2천 타다기사들은 너희가 실직자만든거여.기여금내고 면허받아 영업하면 실직자 읍잖...  \n",
       "48   1:06 에 주정차 금지 붙여져있는데 정차하는 택시 보소. 저러니 택시가 욕을 먹겠죠?  \n",
       "49  타다 사업 할려믄 택시회사 면허를 사던지\\n개인택시 면허를 사던지 해야 한다고 생각...  \n",
       "50  택시기사들 댓글봐랔ㅋㅋㅋ 택시에서 니네 아들 얘기하고 대통령 얘기하고 계속 그렇게 사세요  \n",
       "51  대중교통과 거리가 먼 관료와 의원이 뭘 알아서 입법을 하니마니 하나? \\n이용자의 ...  \n",
       "52    한국의 미래는 없다, 국회의원들은 너무 보수적이고 혁신적이지 못해, 참신하지도 못하지  \n",
       "53                                      응 택시안타 대리부를거야  \n",
       "54  현정권 좌파 국토교통부장관이랑 이거 표결한 장본인들이 더불어민주당 의원이다 이게 자...  "
      ]
     },
     "execution_count": 16,
     "metadata": {},
     "output_type": "execute_result"
    }
   ],
   "source": [
    "datas = [] #제목\n",
    "\n",
    "for i in range(len(comments)):\n",
    "    comment = comments[i].text\n",
    "    user_id = user_ids[i].text\n",
    "    \n",
    "    datas.append({\n",
    "    \"name\" : user_id,\n",
    "    \"comment\" : comment\n",
    "        })\n",
    "\n",
    "pd.DataFrame(datas)"
   ]
  },
  {
   "cell_type": "code",
   "execution_count": 17,
   "metadata": {},
   "outputs": [],
   "source": [
    "driver.quit()"
   ]
  },
  {
   "cell_type": "code",
   "execution_count": 18,
   "metadata": {},
   "outputs": [],
   "source": [
    "driver.quit()"
   ]
  },
  {
   "cell_type": "code",
   "execution_count": null,
   "metadata": {},
   "outputs": [],
   "source": []
  },
  {
   "cell_type": "code",
   "execution_count": null,
   "metadata": {},
   "outputs": [],
   "source": []
  },
  {
   "cell_type": "markdown",
   "metadata": {},
   "source": [
    "### Scrapy Code 작성\n",
    "- items.py\n",
    "- spider.py\n",
    "- run.sh"
   ]
  },
  {
   "cell_type": "code",
   "execution_count": null,
   "metadata": {},
   "outputs": [],
   "source": [
    "!scrapy startproject youtube_review"
   ]
  },
  {
   "cell_type": "code",
   "execution_count": 3,
   "metadata": {},
   "outputs": [
    {
     "name": "stdout",
     "output_type": "stream",
     "text": [
      "import scrapy\n",
      "\n",
      "class CrawlerItem(scrapy.Item):\n",
      "    title = scrapy.Field()\n",
      "    s_price=scrapy.Field()\n",
      "    o_price=scrapy.Field()\n",
      "    link=scrapy.Field()\n"
     ]
    }
   ],
   "source": [
    "!cat items.py"
   ]
  },
  {
   "cell_type": "code",
   "execution_count": null,
   "metadata": {},
   "outputs": [],
   "source": [
    "# items.py"
   ]
  },
  {
   "cell_type": "code",
   "execution_count": null,
   "metadata": {},
   "outputs": [],
   "source": [
    "%%writefile items.py\n",
    "import scrapy\n",
    "\n",
    "\n",
    "class CrawlerItem(scrapy.Item):\n",
    "    title = scrapy.Field()\n",
    "    link = scrapy.Field()\n",
    "    user_id = scrapy.Field()\n",
    "    comment = scrapy.Field()"
   ]
  },
  {
   "cell_type": "code",
   "execution_count": null,
   "metadata": {},
   "outputs": [],
   "source": [
    "# spider.py"
   ]
  },
  {
   "cell_type": "code",
   "execution_count": null,
   "metadata": {},
   "outputs": [],
   "source": []
  },
  {
   "cell_type": "code",
   "execution_count": null,
   "metadata": {},
   "outputs": [],
   "source": [
    "# run.sh 실행"
   ]
  },
  {
   "cell_type": "code",
   "execution_count": null,
   "metadata": {},
   "outputs": [],
   "source": []
  },
  {
   "cell_type": "code",
   "execution_count": null,
   "metadata": {},
   "outputs": [],
   "source": [
    "# 출력되는 데이터를 csv 파일로 저장"
   ]
  },
  {
   "cell_type": "code",
   "execution_count": null,
   "metadata": {},
   "outputs": [],
   "source": []
  },
  {
   "cell_type": "code",
   "execution_count": 3,
   "metadata": {},
   "outputs": [],
   "source": [
    "# mongo DB로 보내기"
   ]
  },
  {
   "cell_type": "code",
   "execution_count": null,
   "metadata": {},
   "outputs": [],
   "source": [
    "\n",
    "    \n",
    "    "
   ]
  }
 ],
 "metadata": {
  "kernelspec": {
   "display_name": "Python 3",
   "language": "python",
   "name": "python3"
  },
  "language_info": {
   "codemirror_mode": {
    "name": "ipython",
    "version": 3
   },
   "file_extension": ".py",
   "mimetype": "text/x-python",
   "name": "python",
   "nbconvert_exporter": "python",
   "pygments_lexer": "ipython3",
   "version": "3.7.3"
  }
 },
 "nbformat": 4,
 "nbformat_minor": 2
}
