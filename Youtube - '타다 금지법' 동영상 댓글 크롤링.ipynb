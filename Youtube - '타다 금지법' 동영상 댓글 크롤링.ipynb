{
 "cells": [
  {
   "cell_type": "markdown",
   "metadata": {},
   "source": [
    "데이터 크롤링 프로젝트: 서론/본론/결론이 있도록 작성\n",
    "    \n",
    "- 데이터 수집의 개요\n",
    "- 수집 동기, 목적\n",
    "- 데이터 수집의 계획 및 주기 작성\n",
    "- 데이터를 수집하는 시스템의 구조도 및 프로세스 등을 설명\n",
    "- 크롤링하는 방법\n",
    "-  크롤링 코드는 서버에서 실행될 수 있도록 작성(local에서 하면 안되고 서버에서)\n",
    "- 모듈이나 패키지 형태(.py)로 만들거나 스크래피 프레임워크를 사용\n",
    "- 데이터의 저장\n",
    "- 스크래피: mongodb 데이터베이스에 크롤링한 데이터를 저장\n",
    "- 모듈, 패키지: mysql로 해도 됨.\n",
    "- 코드의 관리\n",
    "- github으로 코드 관리, 공유, 이슈처리\n",
    "- 설치되어야하는 패키지는 requirements.txt로 작성\n",
    "- 코드의 설명은 처음 접한 사람도 그대로 따라하면 코드를 실행할 수 있을 정도로 간결하게 작성\n",
    "- 프로젝트 회고\n",
    "- 프로젝트하면서 느낀점\n",
    "- 추후 연구 및 개선 사항"
   ]
  },
  {
   "cell_type": "code",
   "execution_count": 1,
   "metadata": {},
   "outputs": [],
   "source": [
    "import requests\n",
    "import time\n",
    "import scrapy\n",
    "\n",
    "from selenium import webdriver\n",
    "from selenium.webdriver.chrome.options import Options\n",
    "from selenium.webdriver.common.keys import Keys\n",
    "from scrapy.http import TextResponse"
   ]
  },
  {
   "cell_type": "code",
   "execution_count": 8,
   "metadata": {},
   "outputs": [
    {
     "name": "stdout",
     "output_type": "stream",
     "text": [
      "Error: Module 'youtube_review' already exists\n"
     ]
    }
   ],
   "source": [
    "!scrapy startproject youtube_review"
   ]
  },
  {
   "cell_type": "markdown",
   "metadata": {},
   "source": [
    "#### 유투브 첫 봐면에서 '타다금지법' 검색하여, 이번 주에 업로드된 동영상 제목, url 가져오기"
   ]
  },
  {
   "cell_type": "code",
   "execution_count": 2,
   "metadata": {},
   "outputs": [],
   "source": [
    "# 링크\n",
    "url = \"https://www.youtube.com/\"\n",
    "driver=webdriver.Chrome()\n",
    "driver.get(url)\n",
    "\n",
    "req = requests.get(url)\n",
    "response = TextResponse(req.url, body=req.text, encoding=\"utf-8\")"
   ]
  },
  {
   "cell_type": "code",
   "execution_count": 3,
   "metadata": {},
   "outputs": [],
   "source": [
    "driver.find_element_by_xpath('//*[@id=\"search\"]').send_keys(\"타다금지법\")\n",
    "driver.find_element_by_xpath('//*[@id=\"search-icon-legacy\"]').click()"
   ]
  },
  {
   "cell_type": "code",
   "execution_count": 4,
   "metadata": {},
   "outputs": [],
   "source": [
    "# 이번주 필터링\n",
    "driver.find_element_by_xpath('//*[@id=\"container\"]/ytd-toggle-button-renderer/a').click()"
   ]
  },
  {
   "cell_type": "code",
   "execution_count": 17,
   "metadata": {},
   "outputs": [
    {
     "data": {
      "text/plain": [
       "61"
      ]
     },
     "execution_count": 17,
     "metadata": {},
     "output_type": "execute_result"
    }
   ],
   "source": [
    "# title, link 가져오기\n",
    "titles=driver.find_elements_by_xpath('//*[@id=\"video-title\"]')\n",
    "len(titles)"
   ]
  },
  {
   "cell_type": "code",
   "execution_count": 19,
   "metadata": {},
   "outputs": [
    {
     "data": {
      "text/plain": [
       "[<selenium.webdriver.remote.webelement.WebElement (session=\"c21cb78175e96054d3a8a2faa98fdb14\", element=\"3d5c1f5e-5c76-4dbd-96f6-82aa980d05e3\")>,\n",
       " <selenium.webdriver.remote.webelement.WebElement (session=\"c21cb78175e96054d3a8a2faa98fdb14\", element=\"fd1a10a4-0d9c-4e70-9858-4fcd5d07217a\")>,\n",
       " <selenium.webdriver.remote.webelement.WebElement (session=\"c21cb78175e96054d3a8a2faa98fdb14\", element=\"eb4eeeb1-fb47-49bd-8e22-26131dec0b1c\")>,\n",
       " <selenium.webdriver.remote.webelement.WebElement (session=\"c21cb78175e96054d3a8a2faa98fdb14\", element=\"48a9d2d6-ade1-44d1-a211-776b6e20b908\")>,\n",
       " <selenium.webdriver.remote.webelement.WebElement (session=\"c21cb78175e96054d3a8a2faa98fdb14\", element=\"1b71c41b-1751-4a72-a74e-ff7f168040c2\")>,\n",
       " <selenium.webdriver.remote.webelement.WebElement (session=\"c21cb78175e96054d3a8a2faa98fdb14\", element=\"78c0ada2-1729-4f67-8b8b-26c756e9294a\")>,\n",
       " <selenium.webdriver.remote.webelement.WebElement (session=\"c21cb78175e96054d3a8a2faa98fdb14\", element=\"53d11a4b-2cae-4ece-8fed-de939ca1ab60\")>,\n",
       " <selenium.webdriver.remote.webelement.WebElement (session=\"c21cb78175e96054d3a8a2faa98fdb14\", element=\"a7d717cf-0277-4fb4-9214-b0f4ceecede2\")>,\n",
       " <selenium.webdriver.remote.webelement.WebElement (session=\"c21cb78175e96054d3a8a2faa98fdb14\", element=\"b72d1d22-95d5-4f0c-a78a-48ff51e62cf5\")>,\n",
       " <selenium.webdriver.remote.webelement.WebElement (session=\"c21cb78175e96054d3a8a2faa98fdb14\", element=\"a90e6556-9c42-4339-99fe-8adcb21a8b00\")>,\n",
       " <selenium.webdriver.remote.webelement.WebElement (session=\"c21cb78175e96054d3a8a2faa98fdb14\", element=\"d5924dbf-2d64-4c1c-8878-6a3c559442d4\")>,\n",
       " <selenium.webdriver.remote.webelement.WebElement (session=\"c21cb78175e96054d3a8a2faa98fdb14\", element=\"85a6bdee-2f59-4d83-9b2b-d0e22af185a9\")>,\n",
       " <selenium.webdriver.remote.webelement.WebElement (session=\"c21cb78175e96054d3a8a2faa98fdb14\", element=\"3246e1cb-e01a-4b7f-97ca-ac3167b32fa5\")>,\n",
       " <selenium.webdriver.remote.webelement.WebElement (session=\"c21cb78175e96054d3a8a2faa98fdb14\", element=\"0cd0b32b-35fa-4351-87cf-2368f63f03d5\")>,\n",
       " <selenium.webdriver.remote.webelement.WebElement (session=\"c21cb78175e96054d3a8a2faa98fdb14\", element=\"3a7cd003-003d-4dce-bc63-026c3821288b\")>,\n",
       " <selenium.webdriver.remote.webelement.WebElement (session=\"c21cb78175e96054d3a8a2faa98fdb14\", element=\"26ca75f8-1794-4778-8c7d-a9e02e22d389\")>,\n",
       " <selenium.webdriver.remote.webelement.WebElement (session=\"c21cb78175e96054d3a8a2faa98fdb14\", element=\"2fbbf850-fc19-4ed3-a9cf-04821aeb0942\")>,\n",
       " <selenium.webdriver.remote.webelement.WebElement (session=\"c21cb78175e96054d3a8a2faa98fdb14\", element=\"d5b0c4cf-c30a-466d-a4a6-0d8078c48c71\")>,\n",
       " <selenium.webdriver.remote.webelement.WebElement (session=\"c21cb78175e96054d3a8a2faa98fdb14\", element=\"14df3947-3f5d-4054-bebf-932a5e3d6b20\")>,\n",
       " <selenium.webdriver.remote.webelement.WebElement (session=\"c21cb78175e96054d3a8a2faa98fdb14\", element=\"1f8e38c7-e55d-4711-894f-ac0562dc0b74\")>,\n",
       " <selenium.webdriver.remote.webelement.WebElement (session=\"c21cb78175e96054d3a8a2faa98fdb14\", element=\"6d32384e-0803-4637-80d4-518bc88f402c\")>,\n",
       " <selenium.webdriver.remote.webelement.WebElement (session=\"c21cb78175e96054d3a8a2faa98fdb14\", element=\"372b7c26-2dc6-4481-a625-d2b9af9a3d64\")>,\n",
       " <selenium.webdriver.remote.webelement.WebElement (session=\"c21cb78175e96054d3a8a2faa98fdb14\", element=\"9e916922-23f7-44cb-b910-a9efe3746020\")>,\n",
       " <selenium.webdriver.remote.webelement.WebElement (session=\"c21cb78175e96054d3a8a2faa98fdb14\", element=\"866768dc-4f29-4239-a468-0e7a25705b81\")>,\n",
       " <selenium.webdriver.remote.webelement.WebElement (session=\"c21cb78175e96054d3a8a2faa98fdb14\", element=\"ea491d6c-8115-470f-b415-ac810632c419\")>,\n",
       " <selenium.webdriver.remote.webelement.WebElement (session=\"c21cb78175e96054d3a8a2faa98fdb14\", element=\"1319e144-ad7b-4aa5-8413-c6d3bbca4b85\")>,\n",
       " <selenium.webdriver.remote.webelement.WebElement (session=\"c21cb78175e96054d3a8a2faa98fdb14\", element=\"069ffbf8-37e6-482a-b780-0184e3d28d91\")>,\n",
       " <selenium.webdriver.remote.webelement.WebElement (session=\"c21cb78175e96054d3a8a2faa98fdb14\", element=\"d55dd2ff-d57a-4610-96b8-9a0c67b4ac83\")>,\n",
       " <selenium.webdriver.remote.webelement.WebElement (session=\"c21cb78175e96054d3a8a2faa98fdb14\", element=\"ef6b2386-cd8d-4e48-b3ec-17bd593f8492\")>,\n",
       " <selenium.webdriver.remote.webelement.WebElement (session=\"c21cb78175e96054d3a8a2faa98fdb14\", element=\"42b1b137-306f-43ed-ad86-8f1f4767323f\")>,\n",
       " <selenium.webdriver.remote.webelement.WebElement (session=\"c21cb78175e96054d3a8a2faa98fdb14\", element=\"1f6d3f38-0aa3-49d6-b92e-4140debdbdb1\")>,\n",
       " <selenium.webdriver.remote.webelement.WebElement (session=\"c21cb78175e96054d3a8a2faa98fdb14\", element=\"bc523e1a-5e10-4e08-a41f-62619e998120\")>,\n",
       " <selenium.webdriver.remote.webelement.WebElement (session=\"c21cb78175e96054d3a8a2faa98fdb14\", element=\"e86d566d-c3c8-45c5-ba28-0934a90c4879\")>,\n",
       " <selenium.webdriver.remote.webelement.WebElement (session=\"c21cb78175e96054d3a8a2faa98fdb14\", element=\"e461f321-a267-4c3d-881b-3f588e2a9b25\")>,\n",
       " <selenium.webdriver.remote.webelement.WebElement (session=\"c21cb78175e96054d3a8a2faa98fdb14\", element=\"5127aabc-5865-4ebf-a465-736a0094b9cb\")>,\n",
       " <selenium.webdriver.remote.webelement.WebElement (session=\"c21cb78175e96054d3a8a2faa98fdb14\", element=\"ba392dc2-dbf4-4e2f-a55e-59c7edd85956\")>,\n",
       " <selenium.webdriver.remote.webelement.WebElement (session=\"c21cb78175e96054d3a8a2faa98fdb14\", element=\"48896fc0-f281-413b-afdd-f3517120cc98\")>,\n",
       " <selenium.webdriver.remote.webelement.WebElement (session=\"c21cb78175e96054d3a8a2faa98fdb14\", element=\"2504a26e-867e-49d1-91d3-4a9ca439484a\")>,\n",
       " <selenium.webdriver.remote.webelement.WebElement (session=\"c21cb78175e96054d3a8a2faa98fdb14\", element=\"f771ca4a-472a-40c5-8a21-4bce0bfe9367\")>,\n",
       " <selenium.webdriver.remote.webelement.WebElement (session=\"c21cb78175e96054d3a8a2faa98fdb14\", element=\"490198d8-2f1c-42da-b937-f286714be09d\")>,\n",
       " <selenium.webdriver.remote.webelement.WebElement (session=\"c21cb78175e96054d3a8a2faa98fdb14\", element=\"0aee5959-f2a0-4554-a5d6-42ec2ed6c394\")>,\n",
       " <selenium.webdriver.remote.webelement.WebElement (session=\"c21cb78175e96054d3a8a2faa98fdb14\", element=\"8e273557-0569-4efc-878a-42fdb0583b9a\")>,\n",
       " <selenium.webdriver.remote.webelement.WebElement (session=\"c21cb78175e96054d3a8a2faa98fdb14\", element=\"d0b38672-c462-4bc3-8f5b-9c6471ed4e6d\")>,\n",
       " <selenium.webdriver.remote.webelement.WebElement (session=\"c21cb78175e96054d3a8a2faa98fdb14\", element=\"a86d4dbd-8173-4838-aa6b-6097336a8323\")>,\n",
       " <selenium.webdriver.remote.webelement.WebElement (session=\"c21cb78175e96054d3a8a2faa98fdb14\", element=\"8338afd5-41ec-4ec1-b72e-6905b6ae67d8\")>,\n",
       " <selenium.webdriver.remote.webelement.WebElement (session=\"c21cb78175e96054d3a8a2faa98fdb14\", element=\"afc1ba5d-3df4-4708-8361-58c9a391aa17\")>,\n",
       " <selenium.webdriver.remote.webelement.WebElement (session=\"c21cb78175e96054d3a8a2faa98fdb14\", element=\"af127379-ccaa-4e13-9fa1-d75141cd2b31\")>,\n",
       " <selenium.webdriver.remote.webelement.WebElement (session=\"c21cb78175e96054d3a8a2faa98fdb14\", element=\"6b028a85-ea68-422b-af82-6cedd24ecad6\")>,\n",
       " <selenium.webdriver.remote.webelement.WebElement (session=\"c21cb78175e96054d3a8a2faa98fdb14\", element=\"4a69c9fb-9e5d-472e-abbc-460f11a08fd6\")>,\n",
       " <selenium.webdriver.remote.webelement.WebElement (session=\"c21cb78175e96054d3a8a2faa98fdb14\", element=\"9271832d-5804-42ed-9245-162bbc178192\")>,\n",
       " <selenium.webdriver.remote.webelement.WebElement (session=\"c21cb78175e96054d3a8a2faa98fdb14\", element=\"85e05c13-9da9-4c34-8c36-4f6adc5ed77f\")>,\n",
       " <selenium.webdriver.remote.webelement.WebElement (session=\"c21cb78175e96054d3a8a2faa98fdb14\", element=\"ac4be11d-2683-4ad3-bb5b-f4f61d1fc9cd\")>,\n",
       " <selenium.webdriver.remote.webelement.WebElement (session=\"c21cb78175e96054d3a8a2faa98fdb14\", element=\"4f9ce143-1edc-4599-921a-a97a52022b3a\")>,\n",
       " <selenium.webdriver.remote.webelement.WebElement (session=\"c21cb78175e96054d3a8a2faa98fdb14\", element=\"cf601395-b7ae-49d3-a88d-36697a37eb51\")>,\n",
       " <selenium.webdriver.remote.webelement.WebElement (session=\"c21cb78175e96054d3a8a2faa98fdb14\", element=\"62ff4e3e-513c-4a6f-a64d-2f61710e3925\")>,\n",
       " <selenium.webdriver.remote.webelement.WebElement (session=\"c21cb78175e96054d3a8a2faa98fdb14\", element=\"872fcb98-d268-4935-8cb0-59bb8c2c3dae\")>,\n",
       " <selenium.webdriver.remote.webelement.WebElement (session=\"c21cb78175e96054d3a8a2faa98fdb14\", element=\"3c807e9b-8d11-4ef5-ab04-6a27e35542dd\")>,\n",
       " <selenium.webdriver.remote.webelement.WebElement (session=\"c21cb78175e96054d3a8a2faa98fdb14\", element=\"891107b4-9a97-40b6-b3a3-a4e2aa255216\")>,\n",
       " <selenium.webdriver.remote.webelement.WebElement (session=\"c21cb78175e96054d3a8a2faa98fdb14\", element=\"0c9008ba-0914-40c7-ac92-2080c4bc9d92\")>,\n",
       " <selenium.webdriver.remote.webelement.WebElement (session=\"c21cb78175e96054d3a8a2faa98fdb14\", element=\"c1abeb9e-f3fa-42f6-824e-070ba92a4961\")>,\n",
       " <selenium.webdriver.remote.webelement.WebElement (session=\"c21cb78175e96054d3a8a2faa98fdb14\", element=\"86d1e4ad-e892-464f-9b4b-11ebe07dba67\")>]"
      ]
     },
     "execution_count": 19,
     "metadata": {},
     "output_type": "execute_result"
    }
   ],
   "source": [
    "titles"
   ]
  },
  {
   "cell_type": "code",
   "execution_count": 18,
   "metadata": {},
   "outputs": [
    {
     "data": {
      "text/plain": [
       "'https://www.youtube.com/watch?v=cKvVgFjOmGA'"
      ]
     },
     "execution_count": 18,
     "metadata": {},
     "output_type": "execute_result"
    }
   ],
   "source": [
    "link=driver.find_elements_by_xpath('//*[contains (@href, \"/watch?\")]')\n",
    "link[1].get_attribute('href')"
   ]
  },
  {
   "cell_type": "code",
   "execution_count": null,
   "metadata": {},
   "outputs": [],
   "source": [
    "#상세 링크 접속하여 user_id, comment 가져오기"
   ]
  },
  {
   "cell_type": "code",
   "execution_count": 23,
   "metadata": {},
   "outputs": [
    {
     "ename": "MaxRetryError",
     "evalue": "HTTPConnectionPool(host='127.0.0.1', port=60613): Max retries exceeded with url: /session/ccfcd0411f03db30675f8cc2fbe4b64a/execute/sync (Caused by NewConnectionError('<urllib3.connection.HTTPConnection object at 0x0000022FFAEFB470>: Failed to establish a new connection: [WinError 10061] 대상 컴퓨터에서 연결을 거부했으므로 연결하지 못했습니다'))",
     "output_type": "error",
     "traceback": [
      "\u001b[1;31m---------------------------------------------------------------------------\u001b[0m",
      "\u001b[1;31mConnectionRefusedError\u001b[0m                    Traceback (most recent call last)",
      "\u001b[1;32m~\\AppData\\Local\\Continuum\\anaconda3\\lib\\site-packages\\urllib3\\connection.py\u001b[0m in \u001b[0;36m_new_conn\u001b[1;34m(self)\u001b[0m\n\u001b[0;32m    158\u001b[0m             conn = connection.create_connection(\n\u001b[1;32m--> 159\u001b[1;33m                 (self._dns_host, self.port), self.timeout, **extra_kw)\n\u001b[0m\u001b[0;32m    160\u001b[0m \u001b[1;33m\u001b[0m\u001b[0m\n",
      "\u001b[1;32m~\\AppData\\Local\\Continuum\\anaconda3\\lib\\site-packages\\urllib3\\util\\connection.py\u001b[0m in \u001b[0;36mcreate_connection\u001b[1;34m(address, timeout, source_address, socket_options)\u001b[0m\n\u001b[0;32m     79\u001b[0m     \u001b[1;32mif\u001b[0m \u001b[0merr\u001b[0m \u001b[1;32mis\u001b[0m \u001b[1;32mnot\u001b[0m \u001b[1;32mNone\u001b[0m\u001b[1;33m:\u001b[0m\u001b[1;33m\u001b[0m\u001b[1;33m\u001b[0m\u001b[0m\n\u001b[1;32m---> 80\u001b[1;33m         \u001b[1;32mraise\u001b[0m \u001b[0merr\u001b[0m\u001b[1;33m\u001b[0m\u001b[1;33m\u001b[0m\u001b[0m\n\u001b[0m\u001b[0;32m     81\u001b[0m \u001b[1;33m\u001b[0m\u001b[0m\n",
      "\u001b[1;32m~\\AppData\\Local\\Continuum\\anaconda3\\lib\\site-packages\\urllib3\\util\\connection.py\u001b[0m in \u001b[0;36mcreate_connection\u001b[1;34m(address, timeout, source_address, socket_options)\u001b[0m\n\u001b[0;32m     69\u001b[0m                 \u001b[0msock\u001b[0m\u001b[1;33m.\u001b[0m\u001b[0mbind\u001b[0m\u001b[1;33m(\u001b[0m\u001b[0msource_address\u001b[0m\u001b[1;33m)\u001b[0m\u001b[1;33m\u001b[0m\u001b[1;33m\u001b[0m\u001b[0m\n\u001b[1;32m---> 70\u001b[1;33m             \u001b[0msock\u001b[0m\u001b[1;33m.\u001b[0m\u001b[0mconnect\u001b[0m\u001b[1;33m(\u001b[0m\u001b[0msa\u001b[0m\u001b[1;33m)\u001b[0m\u001b[1;33m\u001b[0m\u001b[1;33m\u001b[0m\u001b[0m\n\u001b[0m\u001b[0;32m     71\u001b[0m             \u001b[1;32mreturn\u001b[0m \u001b[0msock\u001b[0m\u001b[1;33m\u001b[0m\u001b[1;33m\u001b[0m\u001b[0m\n",
      "\u001b[1;31mConnectionRefusedError\u001b[0m: [WinError 10061] 대상 컴퓨터에서 연결을 거부했으므로 연결하지 못했습니다",
      "\nDuring handling of the above exception, another exception occurred:\n",
      "\u001b[1;31mNewConnectionError\u001b[0m                        Traceback (most recent call last)",
      "\u001b[1;32m~\\AppData\\Local\\Continuum\\anaconda3\\lib\\site-packages\\urllib3\\connectionpool.py\u001b[0m in \u001b[0;36murlopen\u001b[1;34m(self, method, url, body, headers, retries, redirect, assert_same_host, timeout, pool_timeout, release_conn, chunked, body_pos, **response_kw)\u001b[0m\n\u001b[0;32m    599\u001b[0m                                                   \u001b[0mbody\u001b[0m\u001b[1;33m=\u001b[0m\u001b[0mbody\u001b[0m\u001b[1;33m,\u001b[0m \u001b[0mheaders\u001b[0m\u001b[1;33m=\u001b[0m\u001b[0mheaders\u001b[0m\u001b[1;33m,\u001b[0m\u001b[1;33m\u001b[0m\u001b[1;33m\u001b[0m\u001b[0m\n\u001b[1;32m--> 600\u001b[1;33m                                                   chunked=chunked)\n\u001b[0m\u001b[0;32m    601\u001b[0m \u001b[1;33m\u001b[0m\u001b[0m\n",
      "\u001b[1;32m~\\AppData\\Local\\Continuum\\anaconda3\\lib\\site-packages\\urllib3\\connectionpool.py\u001b[0m in \u001b[0;36m_make_request\u001b[1;34m(self, conn, method, url, timeout, chunked, **httplib_request_kw)\u001b[0m\n\u001b[0;32m    353\u001b[0m         \u001b[1;32melse\u001b[0m\u001b[1;33m:\u001b[0m\u001b[1;33m\u001b[0m\u001b[1;33m\u001b[0m\u001b[0m\n\u001b[1;32m--> 354\u001b[1;33m             \u001b[0mconn\u001b[0m\u001b[1;33m.\u001b[0m\u001b[0mrequest\u001b[0m\u001b[1;33m(\u001b[0m\u001b[0mmethod\u001b[0m\u001b[1;33m,\u001b[0m \u001b[0murl\u001b[0m\u001b[1;33m,\u001b[0m \u001b[1;33m**\u001b[0m\u001b[0mhttplib_request_kw\u001b[0m\u001b[1;33m)\u001b[0m\u001b[1;33m\u001b[0m\u001b[1;33m\u001b[0m\u001b[0m\n\u001b[0m\u001b[0;32m    355\u001b[0m \u001b[1;33m\u001b[0m\u001b[0m\n",
      "\u001b[1;32m~\\AppData\\Local\\Continuum\\anaconda3\\lib\\http\\client.py\u001b[0m in \u001b[0;36mrequest\u001b[1;34m(self, method, url, body, headers, encode_chunked)\u001b[0m\n\u001b[0;32m   1228\u001b[0m         \u001b[1;34m\"\"\"Send a complete request to the server.\"\"\"\u001b[0m\u001b[1;33m\u001b[0m\u001b[1;33m\u001b[0m\u001b[0m\n\u001b[1;32m-> 1229\u001b[1;33m         \u001b[0mself\u001b[0m\u001b[1;33m.\u001b[0m\u001b[0m_send_request\u001b[0m\u001b[1;33m(\u001b[0m\u001b[0mmethod\u001b[0m\u001b[1;33m,\u001b[0m \u001b[0murl\u001b[0m\u001b[1;33m,\u001b[0m \u001b[0mbody\u001b[0m\u001b[1;33m,\u001b[0m \u001b[0mheaders\u001b[0m\u001b[1;33m,\u001b[0m \u001b[0mencode_chunked\u001b[0m\u001b[1;33m)\u001b[0m\u001b[1;33m\u001b[0m\u001b[1;33m\u001b[0m\u001b[0m\n\u001b[0m\u001b[0;32m   1230\u001b[0m \u001b[1;33m\u001b[0m\u001b[0m\n",
      "\u001b[1;32m~\\AppData\\Local\\Continuum\\anaconda3\\lib\\http\\client.py\u001b[0m in \u001b[0;36m_send_request\u001b[1;34m(self, method, url, body, headers, encode_chunked)\u001b[0m\n\u001b[0;32m   1274\u001b[0m             \u001b[0mbody\u001b[0m \u001b[1;33m=\u001b[0m \u001b[0m_encode\u001b[0m\u001b[1;33m(\u001b[0m\u001b[0mbody\u001b[0m\u001b[1;33m,\u001b[0m \u001b[1;34m'body'\u001b[0m\u001b[1;33m)\u001b[0m\u001b[1;33m\u001b[0m\u001b[1;33m\u001b[0m\u001b[0m\n\u001b[1;32m-> 1275\u001b[1;33m         \u001b[0mself\u001b[0m\u001b[1;33m.\u001b[0m\u001b[0mendheaders\u001b[0m\u001b[1;33m(\u001b[0m\u001b[0mbody\u001b[0m\u001b[1;33m,\u001b[0m \u001b[0mencode_chunked\u001b[0m\u001b[1;33m=\u001b[0m\u001b[0mencode_chunked\u001b[0m\u001b[1;33m)\u001b[0m\u001b[1;33m\u001b[0m\u001b[1;33m\u001b[0m\u001b[0m\n\u001b[0m\u001b[0;32m   1276\u001b[0m \u001b[1;33m\u001b[0m\u001b[0m\n",
      "\u001b[1;32m~\\AppData\\Local\\Continuum\\anaconda3\\lib\\http\\client.py\u001b[0m in \u001b[0;36mendheaders\u001b[1;34m(self, message_body, encode_chunked)\u001b[0m\n\u001b[0;32m   1223\u001b[0m             \u001b[1;32mraise\u001b[0m \u001b[0mCannotSendHeader\u001b[0m\u001b[1;33m(\u001b[0m\u001b[1;33m)\u001b[0m\u001b[1;33m\u001b[0m\u001b[1;33m\u001b[0m\u001b[0m\n\u001b[1;32m-> 1224\u001b[1;33m         \u001b[0mself\u001b[0m\u001b[1;33m.\u001b[0m\u001b[0m_send_output\u001b[0m\u001b[1;33m(\u001b[0m\u001b[0mmessage_body\u001b[0m\u001b[1;33m,\u001b[0m \u001b[0mencode_chunked\u001b[0m\u001b[1;33m=\u001b[0m\u001b[0mencode_chunked\u001b[0m\u001b[1;33m)\u001b[0m\u001b[1;33m\u001b[0m\u001b[1;33m\u001b[0m\u001b[0m\n\u001b[0m\u001b[0;32m   1225\u001b[0m \u001b[1;33m\u001b[0m\u001b[0m\n",
      "\u001b[1;32m~\\AppData\\Local\\Continuum\\anaconda3\\lib\\http\\client.py\u001b[0m in \u001b[0;36m_send_output\u001b[1;34m(self, message_body, encode_chunked)\u001b[0m\n\u001b[0;32m   1015\u001b[0m         \u001b[1;32mdel\u001b[0m \u001b[0mself\u001b[0m\u001b[1;33m.\u001b[0m\u001b[0m_buffer\u001b[0m\u001b[1;33m[\u001b[0m\u001b[1;33m:\u001b[0m\u001b[1;33m]\u001b[0m\u001b[1;33m\u001b[0m\u001b[1;33m\u001b[0m\u001b[0m\n\u001b[1;32m-> 1016\u001b[1;33m         \u001b[0mself\u001b[0m\u001b[1;33m.\u001b[0m\u001b[0msend\u001b[0m\u001b[1;33m(\u001b[0m\u001b[0mmsg\u001b[0m\u001b[1;33m)\u001b[0m\u001b[1;33m\u001b[0m\u001b[1;33m\u001b[0m\u001b[0m\n\u001b[0m\u001b[0;32m   1017\u001b[0m \u001b[1;33m\u001b[0m\u001b[0m\n",
      "\u001b[1;32m~\\AppData\\Local\\Continuum\\anaconda3\\lib\\http\\client.py\u001b[0m in \u001b[0;36msend\u001b[1;34m(self, data)\u001b[0m\n\u001b[0;32m    955\u001b[0m             \u001b[1;32mif\u001b[0m \u001b[0mself\u001b[0m\u001b[1;33m.\u001b[0m\u001b[0mauto_open\u001b[0m\u001b[1;33m:\u001b[0m\u001b[1;33m\u001b[0m\u001b[1;33m\u001b[0m\u001b[0m\n\u001b[1;32m--> 956\u001b[1;33m                 \u001b[0mself\u001b[0m\u001b[1;33m.\u001b[0m\u001b[0mconnect\u001b[0m\u001b[1;33m(\u001b[0m\u001b[1;33m)\u001b[0m\u001b[1;33m\u001b[0m\u001b[1;33m\u001b[0m\u001b[0m\n\u001b[0m\u001b[0;32m    957\u001b[0m             \u001b[1;32melse\u001b[0m\u001b[1;33m:\u001b[0m\u001b[1;33m\u001b[0m\u001b[1;33m\u001b[0m\u001b[0m\n",
      "\u001b[1;32m~\\AppData\\Local\\Continuum\\anaconda3\\lib\\site-packages\\urllib3\\connection.py\u001b[0m in \u001b[0;36mconnect\u001b[1;34m(self)\u001b[0m\n\u001b[0;32m    180\u001b[0m     \u001b[1;32mdef\u001b[0m \u001b[0mconnect\u001b[0m\u001b[1;33m(\u001b[0m\u001b[0mself\u001b[0m\u001b[1;33m)\u001b[0m\u001b[1;33m:\u001b[0m\u001b[1;33m\u001b[0m\u001b[1;33m\u001b[0m\u001b[0m\n\u001b[1;32m--> 181\u001b[1;33m         \u001b[0mconn\u001b[0m \u001b[1;33m=\u001b[0m \u001b[0mself\u001b[0m\u001b[1;33m.\u001b[0m\u001b[0m_new_conn\u001b[0m\u001b[1;33m(\u001b[0m\u001b[1;33m)\u001b[0m\u001b[1;33m\u001b[0m\u001b[1;33m\u001b[0m\u001b[0m\n\u001b[0m\u001b[0;32m    182\u001b[0m         \u001b[0mself\u001b[0m\u001b[1;33m.\u001b[0m\u001b[0m_prepare_conn\u001b[0m\u001b[1;33m(\u001b[0m\u001b[0mconn\u001b[0m\u001b[1;33m)\u001b[0m\u001b[1;33m\u001b[0m\u001b[1;33m\u001b[0m\u001b[0m\n",
      "\u001b[1;32m~\\AppData\\Local\\Continuum\\anaconda3\\lib\\site-packages\\urllib3\\connection.py\u001b[0m in \u001b[0;36m_new_conn\u001b[1;34m(self)\u001b[0m\n\u001b[0;32m    167\u001b[0m             raise NewConnectionError(\n\u001b[1;32m--> 168\u001b[1;33m                 self, \"Failed to establish a new connection: %s\" % e)\n\u001b[0m\u001b[0;32m    169\u001b[0m \u001b[1;33m\u001b[0m\u001b[0m\n",
      "\u001b[1;31mNewConnectionError\u001b[0m: <urllib3.connection.HTTPConnection object at 0x0000022FFAEFB470>: Failed to establish a new connection: [WinError 10061] 대상 컴퓨터에서 연결을 거부했으므로 연결하지 못했습니다",
      "\nDuring handling of the above exception, another exception occurred:\n",
      "\u001b[1;31mMaxRetryError\u001b[0m                             Traceback (most recent call last)",
      "\u001b[1;32m<ipython-input-23-1af1671b6bfd>\u001b[0m in \u001b[0;36m<module>\u001b[1;34m\u001b[0m\n\u001b[1;32m----> 1\u001b[1;33m \u001b[0murl\u001b[0m \u001b[1;33m=\u001b[0m \u001b[0mlink\u001b[0m\u001b[1;33m[\u001b[0m\u001b[1;36m1\u001b[0m\u001b[1;33m]\u001b[0m\u001b[1;33m.\u001b[0m\u001b[0mget_attribute\u001b[0m\u001b[1;33m(\u001b[0m\u001b[1;34m'href'\u001b[0m\u001b[1;33m)\u001b[0m\u001b[1;33m\u001b[0m\u001b[1;33m\u001b[0m\u001b[0m\n\u001b[0m\u001b[0;32m      2\u001b[0m \u001b[0mdriver\u001b[0m\u001b[1;33m=\u001b[0m\u001b[0mwebdriver\u001b[0m\u001b[1;33m.\u001b[0m\u001b[0mChrome\u001b[0m\u001b[1;33m(\u001b[0m\u001b[1;33m)\u001b[0m\u001b[1;33m\u001b[0m\u001b[1;33m\u001b[0m\u001b[0m\n\u001b[0;32m      3\u001b[0m \u001b[0mdriver\u001b[0m\u001b[1;33m.\u001b[0m\u001b[0mget\u001b[0m\u001b[1;33m(\u001b[0m\u001b[0murl\u001b[0m\u001b[1;33m)\u001b[0m\u001b[1;33m\u001b[0m\u001b[1;33m\u001b[0m\u001b[0m\n",
      "\u001b[1;32m~\\AppData\\Local\\Continuum\\anaconda3\\lib\\site-packages\\selenium\\webdriver\\remote\\webelement.py\u001b[0m in \u001b[0;36mget_attribute\u001b[1;34m(self, name)\u001b[0m\n\u001b[0;32m    139\u001b[0m             attributeValue = self.parent.execute_script(\n\u001b[0;32m    140\u001b[0m                 \u001b[1;34m\"return (%s).apply(null, arguments);\"\u001b[0m \u001b[1;33m%\u001b[0m \u001b[0mgetAttribute_js\u001b[0m\u001b[1;33m,\u001b[0m\u001b[1;33m\u001b[0m\u001b[1;33m\u001b[0m\u001b[0m\n\u001b[1;32m--> 141\u001b[1;33m                 self, name)\n\u001b[0m\u001b[0;32m    142\u001b[0m         \u001b[1;32melse\u001b[0m\u001b[1;33m:\u001b[0m\u001b[1;33m\u001b[0m\u001b[1;33m\u001b[0m\u001b[0m\n\u001b[0;32m    143\u001b[0m             \u001b[0mresp\u001b[0m \u001b[1;33m=\u001b[0m \u001b[0mself\u001b[0m\u001b[1;33m.\u001b[0m\u001b[0m_execute\u001b[0m\u001b[1;33m(\u001b[0m\u001b[0mCommand\u001b[0m\u001b[1;33m.\u001b[0m\u001b[0mGET_ELEMENT_ATTRIBUTE\u001b[0m\u001b[1;33m,\u001b[0m \u001b[1;33m{\u001b[0m\u001b[1;34m'name'\u001b[0m\u001b[1;33m:\u001b[0m \u001b[0mname\u001b[0m\u001b[1;33m}\u001b[0m\u001b[1;33m)\u001b[0m\u001b[1;33m\u001b[0m\u001b[1;33m\u001b[0m\u001b[0m\n",
      "\u001b[1;32m~\\AppData\\Local\\Continuum\\anaconda3\\lib\\site-packages\\selenium\\webdriver\\remote\\webdriver.py\u001b[0m in \u001b[0;36mexecute_script\u001b[1;34m(self, script, *args)\u001b[0m\n\u001b[0;32m    634\u001b[0m         return self.execute(command, {\n\u001b[0;32m    635\u001b[0m             \u001b[1;34m'script'\u001b[0m\u001b[1;33m:\u001b[0m \u001b[0mscript\u001b[0m\u001b[1;33m,\u001b[0m\u001b[1;33m\u001b[0m\u001b[1;33m\u001b[0m\u001b[0m\n\u001b[1;32m--> 636\u001b[1;33m             'args': converted_args})['value']\n\u001b[0m\u001b[0;32m    637\u001b[0m \u001b[1;33m\u001b[0m\u001b[0m\n\u001b[0;32m    638\u001b[0m     \u001b[1;32mdef\u001b[0m \u001b[0mexecute_async_script\u001b[0m\u001b[1;33m(\u001b[0m\u001b[0mself\u001b[0m\u001b[1;33m,\u001b[0m \u001b[0mscript\u001b[0m\u001b[1;33m,\u001b[0m \u001b[1;33m*\u001b[0m\u001b[0margs\u001b[0m\u001b[1;33m)\u001b[0m\u001b[1;33m:\u001b[0m\u001b[1;33m\u001b[0m\u001b[1;33m\u001b[0m\u001b[0m\n",
      "\u001b[1;32m~\\AppData\\Local\\Continuum\\anaconda3\\lib\\site-packages\\selenium\\webdriver\\remote\\webdriver.py\u001b[0m in \u001b[0;36mexecute\u001b[1;34m(self, driver_command, params)\u001b[0m\n\u001b[0;32m    317\u001b[0m \u001b[1;33m\u001b[0m\u001b[0m\n\u001b[0;32m    318\u001b[0m         \u001b[0mparams\u001b[0m \u001b[1;33m=\u001b[0m \u001b[0mself\u001b[0m\u001b[1;33m.\u001b[0m\u001b[0m_wrap_value\u001b[0m\u001b[1;33m(\u001b[0m\u001b[0mparams\u001b[0m\u001b[1;33m)\u001b[0m\u001b[1;33m\u001b[0m\u001b[1;33m\u001b[0m\u001b[0m\n\u001b[1;32m--> 319\u001b[1;33m         \u001b[0mresponse\u001b[0m \u001b[1;33m=\u001b[0m \u001b[0mself\u001b[0m\u001b[1;33m.\u001b[0m\u001b[0mcommand_executor\u001b[0m\u001b[1;33m.\u001b[0m\u001b[0mexecute\u001b[0m\u001b[1;33m(\u001b[0m\u001b[0mdriver_command\u001b[0m\u001b[1;33m,\u001b[0m \u001b[0mparams\u001b[0m\u001b[1;33m)\u001b[0m\u001b[1;33m\u001b[0m\u001b[1;33m\u001b[0m\u001b[0m\n\u001b[0m\u001b[0;32m    320\u001b[0m         \u001b[1;32mif\u001b[0m \u001b[0mresponse\u001b[0m\u001b[1;33m:\u001b[0m\u001b[1;33m\u001b[0m\u001b[1;33m\u001b[0m\u001b[0m\n\u001b[0;32m    321\u001b[0m             \u001b[0mself\u001b[0m\u001b[1;33m.\u001b[0m\u001b[0merror_handler\u001b[0m\u001b[1;33m.\u001b[0m\u001b[0mcheck_response\u001b[0m\u001b[1;33m(\u001b[0m\u001b[0mresponse\u001b[0m\u001b[1;33m)\u001b[0m\u001b[1;33m\u001b[0m\u001b[1;33m\u001b[0m\u001b[0m\n",
      "\u001b[1;32m~\\AppData\\Local\\Continuum\\anaconda3\\lib\\site-packages\\selenium\\webdriver\\remote\\remote_connection.py\u001b[0m in \u001b[0;36mexecute\u001b[1;34m(self, command, params)\u001b[0m\n\u001b[0;32m    372\u001b[0m         \u001b[0mdata\u001b[0m \u001b[1;33m=\u001b[0m \u001b[0mutils\u001b[0m\u001b[1;33m.\u001b[0m\u001b[0mdump_json\u001b[0m\u001b[1;33m(\u001b[0m\u001b[0mparams\u001b[0m\u001b[1;33m)\u001b[0m\u001b[1;33m\u001b[0m\u001b[1;33m\u001b[0m\u001b[0m\n\u001b[0;32m    373\u001b[0m         \u001b[0murl\u001b[0m \u001b[1;33m=\u001b[0m \u001b[1;34m'%s%s'\u001b[0m \u001b[1;33m%\u001b[0m \u001b[1;33m(\u001b[0m\u001b[0mself\u001b[0m\u001b[1;33m.\u001b[0m\u001b[0m_url\u001b[0m\u001b[1;33m,\u001b[0m \u001b[0mpath\u001b[0m\u001b[1;33m)\u001b[0m\u001b[1;33m\u001b[0m\u001b[1;33m\u001b[0m\u001b[0m\n\u001b[1;32m--> 374\u001b[1;33m         \u001b[1;32mreturn\u001b[0m \u001b[0mself\u001b[0m\u001b[1;33m.\u001b[0m\u001b[0m_request\u001b[0m\u001b[1;33m(\u001b[0m\u001b[0mcommand_info\u001b[0m\u001b[1;33m[\u001b[0m\u001b[1;36m0\u001b[0m\u001b[1;33m]\u001b[0m\u001b[1;33m,\u001b[0m \u001b[0murl\u001b[0m\u001b[1;33m,\u001b[0m \u001b[0mbody\u001b[0m\u001b[1;33m=\u001b[0m\u001b[0mdata\u001b[0m\u001b[1;33m)\u001b[0m\u001b[1;33m\u001b[0m\u001b[1;33m\u001b[0m\u001b[0m\n\u001b[0m\u001b[0;32m    375\u001b[0m \u001b[1;33m\u001b[0m\u001b[0m\n\u001b[0;32m    376\u001b[0m     \u001b[1;32mdef\u001b[0m \u001b[0m_request\u001b[0m\u001b[1;33m(\u001b[0m\u001b[0mself\u001b[0m\u001b[1;33m,\u001b[0m \u001b[0mmethod\u001b[0m\u001b[1;33m,\u001b[0m \u001b[0murl\u001b[0m\u001b[1;33m,\u001b[0m \u001b[0mbody\u001b[0m\u001b[1;33m=\u001b[0m\u001b[1;32mNone\u001b[0m\u001b[1;33m)\u001b[0m\u001b[1;33m:\u001b[0m\u001b[1;33m\u001b[0m\u001b[1;33m\u001b[0m\u001b[0m\n",
      "\u001b[1;32m~\\AppData\\Local\\Continuum\\anaconda3\\lib\\site-packages\\selenium\\webdriver\\remote\\remote_connection.py\u001b[0m in \u001b[0;36m_request\u001b[1;34m(self, method, url, body)\u001b[0m\n\u001b[0;32m    395\u001b[0m \u001b[1;33m\u001b[0m\u001b[0m\n\u001b[0;32m    396\u001b[0m         \u001b[1;32mif\u001b[0m \u001b[0mself\u001b[0m\u001b[1;33m.\u001b[0m\u001b[0mkeep_alive\u001b[0m\u001b[1;33m:\u001b[0m\u001b[1;33m\u001b[0m\u001b[1;33m\u001b[0m\u001b[0m\n\u001b[1;32m--> 397\u001b[1;33m             \u001b[0mresp\u001b[0m \u001b[1;33m=\u001b[0m \u001b[0mself\u001b[0m\u001b[1;33m.\u001b[0m\u001b[0m_conn\u001b[0m\u001b[1;33m.\u001b[0m\u001b[0mrequest\u001b[0m\u001b[1;33m(\u001b[0m\u001b[0mmethod\u001b[0m\u001b[1;33m,\u001b[0m \u001b[0murl\u001b[0m\u001b[1;33m,\u001b[0m \u001b[0mbody\u001b[0m\u001b[1;33m=\u001b[0m\u001b[0mbody\u001b[0m\u001b[1;33m,\u001b[0m \u001b[0mheaders\u001b[0m\u001b[1;33m=\u001b[0m\u001b[0mheaders\u001b[0m\u001b[1;33m)\u001b[0m\u001b[1;33m\u001b[0m\u001b[1;33m\u001b[0m\u001b[0m\n\u001b[0m\u001b[0;32m    398\u001b[0m \u001b[1;33m\u001b[0m\u001b[0m\n\u001b[0;32m    399\u001b[0m             \u001b[0mstatuscode\u001b[0m \u001b[1;33m=\u001b[0m \u001b[0mresp\u001b[0m\u001b[1;33m.\u001b[0m\u001b[0mstatus\u001b[0m\u001b[1;33m\u001b[0m\u001b[1;33m\u001b[0m\u001b[0m\n",
      "\u001b[1;32m~\\AppData\\Local\\Continuum\\anaconda3\\lib\\site-packages\\urllib3\\request.py\u001b[0m in \u001b[0;36mrequest\u001b[1;34m(self, method, url, fields, headers, **urlopen_kw)\u001b[0m\n\u001b[0;32m     70\u001b[0m             return self.request_encode_body(method, url, fields=fields,\n\u001b[0;32m     71\u001b[0m                                             \u001b[0mheaders\u001b[0m\u001b[1;33m=\u001b[0m\u001b[0mheaders\u001b[0m\u001b[1;33m,\u001b[0m\u001b[1;33m\u001b[0m\u001b[1;33m\u001b[0m\u001b[0m\n\u001b[1;32m---> 72\u001b[1;33m                                             **urlopen_kw)\n\u001b[0m\u001b[0;32m     73\u001b[0m \u001b[1;33m\u001b[0m\u001b[0m\n\u001b[0;32m     74\u001b[0m     def request_encode_url(self, method, url, fields=None, headers=None,\n",
      "\u001b[1;32m~\\AppData\\Local\\Continuum\\anaconda3\\lib\\site-packages\\urllib3\\request.py\u001b[0m in \u001b[0;36mrequest_encode_body\u001b[1;34m(self, method, url, fields, headers, encode_multipart, multipart_boundary, **urlopen_kw)\u001b[0m\n\u001b[0;32m    148\u001b[0m         \u001b[0mextra_kw\u001b[0m\u001b[1;33m.\u001b[0m\u001b[0mupdate\u001b[0m\u001b[1;33m(\u001b[0m\u001b[0murlopen_kw\u001b[0m\u001b[1;33m)\u001b[0m\u001b[1;33m\u001b[0m\u001b[1;33m\u001b[0m\u001b[0m\n\u001b[0;32m    149\u001b[0m \u001b[1;33m\u001b[0m\u001b[0m\n\u001b[1;32m--> 150\u001b[1;33m         \u001b[1;32mreturn\u001b[0m \u001b[0mself\u001b[0m\u001b[1;33m.\u001b[0m\u001b[0murlopen\u001b[0m\u001b[1;33m(\u001b[0m\u001b[0mmethod\u001b[0m\u001b[1;33m,\u001b[0m \u001b[0murl\u001b[0m\u001b[1;33m,\u001b[0m \u001b[1;33m**\u001b[0m\u001b[0mextra_kw\u001b[0m\u001b[1;33m)\u001b[0m\u001b[1;33m\u001b[0m\u001b[1;33m\u001b[0m\u001b[0m\n\u001b[0m",
      "\u001b[1;32m~\\AppData\\Local\\Continuum\\anaconda3\\lib\\site-packages\\urllib3\\poolmanager.py\u001b[0m in \u001b[0;36murlopen\u001b[1;34m(self, method, url, redirect, **kw)\u001b[0m\n\u001b[0;32m    322\u001b[0m             \u001b[0mresponse\u001b[0m \u001b[1;33m=\u001b[0m \u001b[0mconn\u001b[0m\u001b[1;33m.\u001b[0m\u001b[0murlopen\u001b[0m\u001b[1;33m(\u001b[0m\u001b[0mmethod\u001b[0m\u001b[1;33m,\u001b[0m \u001b[0murl\u001b[0m\u001b[1;33m,\u001b[0m \u001b[1;33m**\u001b[0m\u001b[0mkw\u001b[0m\u001b[1;33m)\u001b[0m\u001b[1;33m\u001b[0m\u001b[1;33m\u001b[0m\u001b[0m\n\u001b[0;32m    323\u001b[0m         \u001b[1;32melse\u001b[0m\u001b[1;33m:\u001b[0m\u001b[1;33m\u001b[0m\u001b[1;33m\u001b[0m\u001b[0m\n\u001b[1;32m--> 324\u001b[1;33m             \u001b[0mresponse\u001b[0m \u001b[1;33m=\u001b[0m \u001b[0mconn\u001b[0m\u001b[1;33m.\u001b[0m\u001b[0murlopen\u001b[0m\u001b[1;33m(\u001b[0m\u001b[0mmethod\u001b[0m\u001b[1;33m,\u001b[0m \u001b[0mu\u001b[0m\u001b[1;33m.\u001b[0m\u001b[0mrequest_uri\u001b[0m\u001b[1;33m,\u001b[0m \u001b[1;33m**\u001b[0m\u001b[0mkw\u001b[0m\u001b[1;33m)\u001b[0m\u001b[1;33m\u001b[0m\u001b[1;33m\u001b[0m\u001b[0m\n\u001b[0m\u001b[0;32m    325\u001b[0m \u001b[1;33m\u001b[0m\u001b[0m\n\u001b[0;32m    326\u001b[0m         \u001b[0mredirect_location\u001b[0m \u001b[1;33m=\u001b[0m \u001b[0mredirect\u001b[0m \u001b[1;32mand\u001b[0m \u001b[0mresponse\u001b[0m\u001b[1;33m.\u001b[0m\u001b[0mget_redirect_location\u001b[0m\u001b[1;33m(\u001b[0m\u001b[1;33m)\u001b[0m\u001b[1;33m\u001b[0m\u001b[1;33m\u001b[0m\u001b[0m\n",
      "\u001b[1;32m~\\AppData\\Local\\Continuum\\anaconda3\\lib\\site-packages\\urllib3\\connectionpool.py\u001b[0m in \u001b[0;36murlopen\u001b[1;34m(self, method, url, body, headers, retries, redirect, assert_same_host, timeout, pool_timeout, release_conn, chunked, body_pos, **response_kw)\u001b[0m\n\u001b[0;32m    665\u001b[0m                                 \u001b[0mtimeout\u001b[0m\u001b[1;33m=\u001b[0m\u001b[0mtimeout\u001b[0m\u001b[1;33m,\u001b[0m \u001b[0mpool_timeout\u001b[0m\u001b[1;33m=\u001b[0m\u001b[0mpool_timeout\u001b[0m\u001b[1;33m,\u001b[0m\u001b[1;33m\u001b[0m\u001b[1;33m\u001b[0m\u001b[0m\n\u001b[0;32m    666\u001b[0m                                 \u001b[0mrelease_conn\u001b[0m\u001b[1;33m=\u001b[0m\u001b[0mrelease_conn\u001b[0m\u001b[1;33m,\u001b[0m \u001b[0mbody_pos\u001b[0m\u001b[1;33m=\u001b[0m\u001b[0mbody_pos\u001b[0m\u001b[1;33m,\u001b[0m\u001b[1;33m\u001b[0m\u001b[1;33m\u001b[0m\u001b[0m\n\u001b[1;32m--> 667\u001b[1;33m                                 **response_kw)\n\u001b[0m\u001b[0;32m    668\u001b[0m \u001b[1;33m\u001b[0m\u001b[0m\n\u001b[0;32m    669\u001b[0m         \u001b[1;32mdef\u001b[0m \u001b[0mdrain_and_release_conn\u001b[0m\u001b[1;33m(\u001b[0m\u001b[0mresponse\u001b[0m\u001b[1;33m)\u001b[0m\u001b[1;33m:\u001b[0m\u001b[1;33m\u001b[0m\u001b[1;33m\u001b[0m\u001b[0m\n",
      "\u001b[1;32m~\\AppData\\Local\\Continuum\\anaconda3\\lib\\site-packages\\urllib3\\connectionpool.py\u001b[0m in \u001b[0;36murlopen\u001b[1;34m(self, method, url, body, headers, retries, redirect, assert_same_host, timeout, pool_timeout, release_conn, chunked, body_pos, **response_kw)\u001b[0m\n\u001b[0;32m    665\u001b[0m                                 \u001b[0mtimeout\u001b[0m\u001b[1;33m=\u001b[0m\u001b[0mtimeout\u001b[0m\u001b[1;33m,\u001b[0m \u001b[0mpool_timeout\u001b[0m\u001b[1;33m=\u001b[0m\u001b[0mpool_timeout\u001b[0m\u001b[1;33m,\u001b[0m\u001b[1;33m\u001b[0m\u001b[1;33m\u001b[0m\u001b[0m\n\u001b[0;32m    666\u001b[0m                                 \u001b[0mrelease_conn\u001b[0m\u001b[1;33m=\u001b[0m\u001b[0mrelease_conn\u001b[0m\u001b[1;33m,\u001b[0m \u001b[0mbody_pos\u001b[0m\u001b[1;33m=\u001b[0m\u001b[0mbody_pos\u001b[0m\u001b[1;33m,\u001b[0m\u001b[1;33m\u001b[0m\u001b[1;33m\u001b[0m\u001b[0m\n\u001b[1;32m--> 667\u001b[1;33m                                 **response_kw)\n\u001b[0m\u001b[0;32m    668\u001b[0m \u001b[1;33m\u001b[0m\u001b[0m\n\u001b[0;32m    669\u001b[0m         \u001b[1;32mdef\u001b[0m \u001b[0mdrain_and_release_conn\u001b[0m\u001b[1;33m(\u001b[0m\u001b[0mresponse\u001b[0m\u001b[1;33m)\u001b[0m\u001b[1;33m:\u001b[0m\u001b[1;33m\u001b[0m\u001b[1;33m\u001b[0m\u001b[0m\n",
      "\u001b[1;32m~\\AppData\\Local\\Continuum\\anaconda3\\lib\\site-packages\\urllib3\\connectionpool.py\u001b[0m in \u001b[0;36murlopen\u001b[1;34m(self, method, url, body, headers, retries, redirect, assert_same_host, timeout, pool_timeout, release_conn, chunked, body_pos, **response_kw)\u001b[0m\n\u001b[0;32m    665\u001b[0m                                 \u001b[0mtimeout\u001b[0m\u001b[1;33m=\u001b[0m\u001b[0mtimeout\u001b[0m\u001b[1;33m,\u001b[0m \u001b[0mpool_timeout\u001b[0m\u001b[1;33m=\u001b[0m\u001b[0mpool_timeout\u001b[0m\u001b[1;33m,\u001b[0m\u001b[1;33m\u001b[0m\u001b[1;33m\u001b[0m\u001b[0m\n\u001b[0;32m    666\u001b[0m                                 \u001b[0mrelease_conn\u001b[0m\u001b[1;33m=\u001b[0m\u001b[0mrelease_conn\u001b[0m\u001b[1;33m,\u001b[0m \u001b[0mbody_pos\u001b[0m\u001b[1;33m=\u001b[0m\u001b[0mbody_pos\u001b[0m\u001b[1;33m,\u001b[0m\u001b[1;33m\u001b[0m\u001b[1;33m\u001b[0m\u001b[0m\n\u001b[1;32m--> 667\u001b[1;33m                                 **response_kw)\n\u001b[0m\u001b[0;32m    668\u001b[0m \u001b[1;33m\u001b[0m\u001b[0m\n\u001b[0;32m    669\u001b[0m         \u001b[1;32mdef\u001b[0m \u001b[0mdrain_and_release_conn\u001b[0m\u001b[1;33m(\u001b[0m\u001b[0mresponse\u001b[0m\u001b[1;33m)\u001b[0m\u001b[1;33m:\u001b[0m\u001b[1;33m\u001b[0m\u001b[1;33m\u001b[0m\u001b[0m\n",
      "\u001b[1;32m~\\AppData\\Local\\Continuum\\anaconda3\\lib\\site-packages\\urllib3\\connectionpool.py\u001b[0m in \u001b[0;36murlopen\u001b[1;34m(self, method, url, body, headers, retries, redirect, assert_same_host, timeout, pool_timeout, release_conn, chunked, body_pos, **response_kw)\u001b[0m\n\u001b[0;32m    636\u001b[0m \u001b[1;33m\u001b[0m\u001b[0m\n\u001b[0;32m    637\u001b[0m             retries = retries.increment(method, url, error=e, _pool=self,\n\u001b[1;32m--> 638\u001b[1;33m                                         _stacktrace=sys.exc_info()[2])\n\u001b[0m\u001b[0;32m    639\u001b[0m             \u001b[0mretries\u001b[0m\u001b[1;33m.\u001b[0m\u001b[0msleep\u001b[0m\u001b[1;33m(\u001b[0m\u001b[1;33m)\u001b[0m\u001b[1;33m\u001b[0m\u001b[1;33m\u001b[0m\u001b[0m\n\u001b[0;32m    640\u001b[0m \u001b[1;33m\u001b[0m\u001b[0m\n",
      "\u001b[1;32m~\\AppData\\Local\\Continuum\\anaconda3\\lib\\site-packages\\urllib3\\util\\retry.py\u001b[0m in \u001b[0;36mincrement\u001b[1;34m(self, method, url, response, error, _pool, _stacktrace)\u001b[0m\n\u001b[0;32m    397\u001b[0m \u001b[1;33m\u001b[0m\u001b[0m\n\u001b[0;32m    398\u001b[0m         \u001b[1;32mif\u001b[0m \u001b[0mnew_retry\u001b[0m\u001b[1;33m.\u001b[0m\u001b[0mis_exhausted\u001b[0m\u001b[1;33m(\u001b[0m\u001b[1;33m)\u001b[0m\u001b[1;33m:\u001b[0m\u001b[1;33m\u001b[0m\u001b[1;33m\u001b[0m\u001b[0m\n\u001b[1;32m--> 399\u001b[1;33m             \u001b[1;32mraise\u001b[0m \u001b[0mMaxRetryError\u001b[0m\u001b[1;33m(\u001b[0m\u001b[0m_pool\u001b[0m\u001b[1;33m,\u001b[0m \u001b[0murl\u001b[0m\u001b[1;33m,\u001b[0m \u001b[0merror\u001b[0m \u001b[1;32mor\u001b[0m \u001b[0mResponseError\u001b[0m\u001b[1;33m(\u001b[0m\u001b[0mcause\u001b[0m\u001b[1;33m)\u001b[0m\u001b[1;33m)\u001b[0m\u001b[1;33m\u001b[0m\u001b[1;33m\u001b[0m\u001b[0m\n\u001b[0m\u001b[0;32m    400\u001b[0m \u001b[1;33m\u001b[0m\u001b[0m\n\u001b[0;32m    401\u001b[0m         \u001b[0mlog\u001b[0m\u001b[1;33m.\u001b[0m\u001b[0mdebug\u001b[0m\u001b[1;33m(\u001b[0m\u001b[1;34m\"Incremented Retry for (url='%s'): %r\"\u001b[0m\u001b[1;33m,\u001b[0m \u001b[0murl\u001b[0m\u001b[1;33m,\u001b[0m \u001b[0mnew_retry\u001b[0m\u001b[1;33m)\u001b[0m\u001b[1;33m\u001b[0m\u001b[1;33m\u001b[0m\u001b[0m\n",
      "\u001b[1;31mMaxRetryError\u001b[0m: HTTPConnectionPool(host='127.0.0.1', port=60613): Max retries exceeded with url: /session/ccfcd0411f03db30675f8cc2fbe4b64a/execute/sync (Caused by NewConnectionError('<urllib3.connection.HTTPConnection object at 0x0000022FFAEFB470>: Failed to establish a new connection: [WinError 10061] 대상 컴퓨터에서 연결을 거부했으므로 연결하지 못했습니다'))"
     ]
    }
   ],
   "source": [
    "url = link[1].get_attribute('href')\n",
    "driver=webdriver.Chrome()\n",
    "driver.get(url)"
   ]
  },
  {
   "cell_type": "code",
   "execution_count": 208,
   "metadata": {},
   "outputs": [],
   "source": [
    "body = driver.find_element_by_tag_name('body')\n",
    "\n",
    "num_of_pagedowns = 20\n",
    "\n",
    "while num_of_pagedowns:\n",
    "    body.send_keys(Keys.PAGE_DOWN)\n",
    "    time.sleep(1)\n",
    "    num_of_pagedowns -= 1"
   ]
  },
  {
   "cell_type": "code",
   "execution_count": 1,
   "metadata": {},
   "outputs": [],
   "source": [
    "#driver.find_element_by_xpath('//[@class=\"dropdown-trigger style-scope yt-dropdown-menu\"]').click()\n",
    "\n",
    "#driver.find_element_by_css_selector('#icon-label').click()\n",
    "\n"
   ]
  },
  {
   "cell_type": "code",
   "execution_count": 2,
   "metadata": {},
   "outputs": [],
   "source": [
    "# 정렬 기준버튼 클릭\n",
    "\n",
    "#driver.find_element_by_xpath('//*[@id=\"icon-label\"]').click()\n",
    "\n",
    "#인기순 정렬\n",
    "#driver.find_element_by_xpath('//*[@id=\"menu\"]/a[1]/paper-item/paper-item-body/div[1]').click\n",
    "\n",
    "#최근날짜 순 정렬\n",
    "#driver.find_element_by_xpath('//*[@id=\"menu\"]/a[2]/paper-item/paper-item-body/div[1]').click()"
   ]
  },
  {
   "cell_type": "code",
   "execution_count": 6,
   "metadata": {},
   "outputs": [],
   "source": [
    "comments = driver.find_elements_by_css_selector('#content-text')"
   ]
  },
  {
   "cell_type": "code",
   "execution_count": 7,
   "metadata": {},
   "outputs": [
    {
     "data": {
      "text/plain": [
       "'국회의원 꼬라지 봐서는 택시들 승차거부 과속 난폭운전은 영원히 사라지지 않겠내 ㅋㅋㅋ\\n역시 이나라는 선거전에 표걸고 떼법 밀어붙이는게 최고여 ㅋㅋㅋ'"
      ]
     },
     "execution_count": 7,
     "metadata": {},
     "output_type": "execute_result"
    }
   ],
   "source": [
    "comments[2].text"
   ]
  },
  {
   "cell_type": "code",
   "execution_count": 28,
   "metadata": {},
   "outputs": [
    {
     "data": {
      "text/plain": [
       "20"
      ]
     },
     "execution_count": 28,
     "metadata": {},
     "output_type": "execute_result"
    }
   ],
   "source": [
    "user_id = driver.find_elements_by_css_selector('#author-text > span')\n",
    "len(user_id)"
   ]
  },
  {
   "cell_type": "code",
   "execution_count": 29,
   "metadata": {},
   "outputs": [
    {
     "data": {
      "text/plain": [
       "'미스터손'"
      ]
     },
     "execution_count": 29,
     "metadata": {},
     "output_type": "execute_result"
    }
   ],
   "source": [
    "user_id[0].text"
   ]
  },
  {
   "cell_type": "code",
   "execution_count": 32,
   "metadata": {},
   "outputs": [
    {
     "data": {
      "text/html": [
       "<div>\n",
       "<style scoped>\n",
       "    .dataframe tbody tr th:only-of-type {\n",
       "        vertical-align: middle;\n",
       "    }\n",
       "\n",
       "    .dataframe tbody tr th {\n",
       "        vertical-align: top;\n",
       "    }\n",
       "\n",
       "    .dataframe thead th {\n",
       "        text-align: right;\n",
       "    }\n",
       "</style>\n",
       "<table border=\"1\" class=\"dataframe\">\n",
       "  <thead>\n",
       "    <tr style=\"text-align: right;\">\n",
       "      <th></th>\n",
       "      <th>name</th>\n",
       "      <th>comment</th>\n",
       "    </tr>\n",
       "  </thead>\n",
       "  <tbody>\n",
       "    <tr>\n",
       "      <th>0</th>\n",
       "      <td>미스터손</td>\n",
       "      <td>내 기억속의 택시는 기본요금 나왔다고 카드로 결제한다고 얼굴 찌푸렸던 택시, 물웅덩...</td>\n",
       "    </tr>\n",
       "    <tr>\n",
       "      <th>1</th>\n",
       "      <td>모모</td>\n",
       "      <td>난택시가 싢다  왜냐하면 좋은택시 기사도있었지만   난폭운전택시기사 끼어들기  u턴...</td>\n",
       "    </tr>\n",
       "    <tr>\n",
       "      <th>2</th>\n",
       "      <td>조창</td>\n",
       "      <td>국회의원 꼬라지 봐서는 택시들 승차거부 과속 난폭운전은 영원히 사라지지 않겠내 ㅋㅋ...</td>\n",
       "    </tr>\n",
       "    <tr>\n",
       "      <th>3</th>\n",
       "      <td>김영선</td>\n",
       "      <td>와이티엔은 타다편향 방송  안하고 공정하게 양측 울화통 터지지 않게 겸손한 방송 엄...</td>\n",
       "    </tr>\n",
       "    <tr>\n",
       "      <th>4</th>\n",
       "      <td>Frienze</td>\n",
       "      <td>중국애들 몰려드네</td>\n",
       "    </tr>\n",
       "    <tr>\n",
       "      <th>5</th>\n",
       "      <td>레전드마스터</td>\n",
       "      <td>면허사서 합법적으로 할생각을해야지!!!\\n이게4차산업이러면 5차산업은 \\n판사,검사...</td>\n",
       "    </tr>\n",
       "    <tr>\n",
       "      <th>6</th>\n",
       "      <td>에비스자와쿠루미</td>\n",
       "      <td>타다서비스는 엄연히 법의 허점을 이용한 불법적인 사업인데 이걸 없애는걸 이상하게 생...</td>\n",
       "    </tr>\n",
       "    <tr>\n",
       "      <th>7</th>\n",
       "      <td>정담원</td>\n",
       "      <td>택시들 밥그릇지키기\\n국민들은 다 알고있다</td>\n",
       "    </tr>\n",
       "    <tr>\n",
       "      <th>8</th>\n",
       "      <td>포푸라</td>\n",
       "      <td>부산만 하더라도 택시가 24000대인데\\n무분별하게 타다같은 업체가 렌탈카니발 증차...</td>\n",
       "    </tr>\n",
       "    <tr>\n",
       "      <th>9</th>\n",
       "      <td>부엉이오형제</td>\n",
       "      <td>국민의 다수가 원한다고 불법을 지양할순없는겁니다. 타다는 애당초 무허가콜택시사업이었...</td>\n",
       "    </tr>\n",
       "    <tr>\n",
       "      <th>10</th>\n",
       "      <td>윤이나</td>\n",
       "      <td>택시 서비스 개선 일도 없는데 경쟁이라도 붙게해서 서비스 개선이라도 하게 해야지 이...</td>\n",
       "    </tr>\n",
       "    <tr>\n",
       "      <th>11</th>\n",
       "      <td>Kim노옹</td>\n",
       "      <td>택시 표심 겁나서 ㅎㅎㅎ</td>\n",
       "    </tr>\n",
       "    <tr>\n",
       "      <th>12</th>\n",
       "      <td>미뇨노농</td>\n",
       "      <td>이제 뭐타고 다니나...ㅡㅡ 택시 탈 생각은 죽어도 없는데... 아오</td>\n",
       "    </tr>\n",
       "    <tr>\n",
       "      <th>13</th>\n",
       "      <td>세상참</td>\n",
       "      <td>저는  택시와 관련  없는 사람입니다    다만   타다라는  업태 형때가 운수업 ...</td>\n",
       "    </tr>\n",
       "    <tr>\n",
       "      <th>14</th>\n",
       "      <td>이성용</td>\n",
       "      <td>당연한걸 정권등에 업고 쇼나하고 타다처럼 렌트카로 택시영업할거면 미쳤다고 영업용번호...</td>\n",
       "    </tr>\n",
       "    <tr>\n",
       "      <th>15</th>\n",
       "      <td>마을</td>\n",
       "      <td>콜뛰기 타다와 신천지는 박멸이 답이다.</td>\n",
       "    </tr>\n",
       "    <tr>\n",
       "      <th>16</th>\n",
       "      <td>박정호</td>\n",
       "      <td>선거의식   겁나   하네</td>\n",
       "    </tr>\n",
       "    <tr>\n",
       "      <th>17</th>\n",
       "      <td>보안관2 cho</td>\n",
       "      <td>수고들\\n많으셨습니다 \\n우리를대신해돌아가신\\n우리조합원님들의</td>\n",
       "    </tr>\n",
       "    <tr>\n",
       "      <th>18</th>\n",
       "      <td>부엉이오형제</td>\n",
       "      <td>면허증따고 자격증따고 해라\\n\\n나? 면허없이 면허있는 파일럿보다 비행기 잘모는데 ...</td>\n",
       "    </tr>\n",
       "    <tr>\n",
       "      <th>19</th>\n",
       "      <td>Railroade r</td>\n",
       "      <td>영 거꾸로 돌아가는듯한...</td>\n",
       "    </tr>\n",
       "  </tbody>\n",
       "</table>\n",
       "</div>"
      ],
      "text/plain": [
       "           name                                            comment\n",
       "0          미스터손  내 기억속의 택시는 기본요금 나왔다고 카드로 결제한다고 얼굴 찌푸렸던 택시, 물웅덩...\n",
       "1            모모  난택시가 싢다  왜냐하면 좋은택시 기사도있었지만   난폭운전택시기사 끼어들기  u턴...\n",
       "2            조창  국회의원 꼬라지 봐서는 택시들 승차거부 과속 난폭운전은 영원히 사라지지 않겠내 ㅋㅋ...\n",
       "3           김영선  와이티엔은 타다편향 방송  안하고 공정하게 양측 울화통 터지지 않게 겸손한 방송 엄...\n",
       "4       Frienze                                          중국애들 몰려드네\n",
       "5        레전드마스터  면허사서 합법적으로 할생각을해야지!!!\\n이게4차산업이러면 5차산업은 \\n판사,검사...\n",
       "6      에비스자와쿠루미  타다서비스는 엄연히 법의 허점을 이용한 불법적인 사업인데 이걸 없애는걸 이상하게 생...\n",
       "7           정담원                            택시들 밥그릇지키기\\n국민들은 다 알고있다\n",
       "8           포푸라  부산만 하더라도 택시가 24000대인데\\n무분별하게 타다같은 업체가 렌탈카니발 증차...\n",
       "9        부엉이오형제  국민의 다수가 원한다고 불법을 지양할순없는겁니다. 타다는 애당초 무허가콜택시사업이었...\n",
       "10          윤이나  택시 서비스 개선 일도 없는데 경쟁이라도 붙게해서 서비스 개선이라도 하게 해야지 이...\n",
       "11        Kim노옹                                      택시 표심 겁나서 ㅎㅎㅎ\n",
       "12         미뇨노농             이제 뭐타고 다니나...ㅡㅡ 택시 탈 생각은 죽어도 없는데... 아오\n",
       "13          세상참  저는  택시와 관련  없는 사람입니다    다만   타다라는  업태 형때가 운수업 ...\n",
       "14          이성용  당연한걸 정권등에 업고 쇼나하고 타다처럼 렌트카로 택시영업할거면 미쳤다고 영업용번호...\n",
       "15           마을                              콜뛰기 타다와 신천지는 박멸이 답이다.\n",
       "16          박정호                                     선거의식   겁나   하네\n",
       "17     보안관2 cho                 수고들\\n많으셨습니다 \\n우리를대신해돌아가신\\n우리조합원님들의\n",
       "18       부엉이오형제  면허증따고 자격증따고 해라\\n\\n나? 면허없이 면허있는 파일럿보다 비행기 잘모는데 ...\n",
       "19  Railroade r                                    영 거꾸로 돌아가는듯한..."
      ]
     },
     "execution_count": 32,
     "metadata": {},
     "output_type": "execute_result"
    }
   ],
   "source": [
    "datas = [] #제목\n",
    "\n",
    "for i in range(len(comments)):\n",
    "    comment = comments[i].text\n",
    "    user_id = user_id[i].text\n",
    "    \n",
    "    datas.append({\n",
    "    \"name\" : user_id,\n",
    "    \"comment\" : comment\n",
    "        })\n",
    "\n",
    "pd.DataFrame(datas)"
   ]
  },
  {
   "cell_type": "code",
   "execution_count": null,
   "metadata": {},
   "outputs": [],
   "source": []
  },
  {
   "cell_type": "markdown",
   "metadata": {},
   "source": [
    "### Scrapy Code 작성\n",
    "- items.py\n",
    "- spider.py\n",
    "- run.sh"
   ]
  },
  {
   "cell_type": "code",
   "execution_count": 3,
   "metadata": {},
   "outputs": [
    {
     "name": "stdout",
     "output_type": "stream",
     "text": [
      "import scrapy\n",
      "\n",
      "class CrawlerItem(scrapy.Item):\n",
      "    title = scrapy.Field()\n",
      "    s_price=scrapy.Field()\n",
      "    o_price=scrapy.Field()\n",
      "    link=scrapy.Field()\n"
     ]
    }
   ],
   "source": [
    "!cat items.py"
   ]
  },
  {
   "cell_type": "code",
   "execution_count": null,
   "metadata": {},
   "outputs": [],
   "source": [
    "# items.py"
   ]
  },
  {
   "cell_type": "code",
   "execution_count": null,
   "metadata": {},
   "outputs": [],
   "source": [
    "%%writefile items.py\n",
    "import scrapy\n",
    "\n",
    "\n",
    "class CrawlerItem(scrapy.Item):\n",
    "    title = scrapy.Field()\n",
    "    link = scrapy.Field()\n",
    "    user_id = scrapy.Field()\n",
    "    comment = scrapy.Field()"
   ]
  },
  {
   "cell_type": "code",
   "execution_count": null,
   "metadata": {},
   "outputs": [],
   "source": [
    "# spider.py"
   ]
  },
  {
   "cell_type": "code",
   "execution_count": null,
   "metadata": {},
   "outputs": [],
   "source": []
  },
  {
   "cell_type": "code",
   "execution_count": null,
   "metadata": {},
   "outputs": [],
   "source": [
    "# run.sh 실행"
   ]
  },
  {
   "cell_type": "code",
   "execution_count": null,
   "metadata": {},
   "outputs": [],
   "source": []
  },
  {
   "cell_type": "code",
   "execution_count": null,
   "metadata": {},
   "outputs": [],
   "source": [
    "# 출력되는 데이터를 csv 파일로 저장"
   ]
  },
  {
   "cell_type": "code",
   "execution_count": null,
   "metadata": {},
   "outputs": [],
   "source": []
  },
  {
   "cell_type": "code",
   "execution_count": 3,
   "metadata": {},
   "outputs": [],
   "source": [
    "# mongo DB로 보내기"
   ]
  },
  {
   "cell_type": "code",
   "execution_count": null,
   "metadata": {},
   "outputs": [],
   "source": [
    "\n",
    "    \n",
    "    "
   ]
  }
 ],
 "metadata": {
  "kernelspec": {
   "display_name": "Python 3",
   "language": "python",
   "name": "python3"
  },
  "language_info": {
   "codemirror_mode": {
    "name": "ipython",
    "version": 3
   },
   "file_extension": ".py",
   "mimetype": "text/x-python",
   "name": "python",
   "nbconvert_exporter": "python",
   "pygments_lexer": "ipython3",
   "version": "3.7.3"
  }
 },
 "nbformat": 4,
 "nbformat_minor": 2
}
