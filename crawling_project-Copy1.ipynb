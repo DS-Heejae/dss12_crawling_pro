{
 "cells": [
  {
   "cell_type": "markdown",
   "metadata": {},
   "source": [
    "### 데이터 크롤링 프로젝트\n",
    "- 데이터 수집의 개요\n",
    "    - 수집 동기\n",
    "        - 차량 공유 서비스가 활성화 되면서 '타다'와 '카카오 택시'로 사회에 많은 논란이 있었다. '카카오 택시'는 기존 택시 업계와의 상생 협약을 맺으며 사업을 진행하고 있다. 반면 타다는 업계와의 갈등이 계속되며 타다 금지법이 국회에서 통과 되었다. 법 통과 이후에도 혁신과 불법이라는 극단적인 의견이 대립되고 있다.\n",
    "        - 네이버와 다음은 텍스트 기사 바탕으로 댓글이 주로 서비스 되고 있다. 두 사이트의 댓글 의견은 성향에 따라 극단적으로 나눠지는 것으로 파악되고 있다(1). 영상매체를 서비스하는 유튜브는 채널보다는 동영상별로 다양한 성향의 댓글이 작성된다 생각한다. 이러한 의문을 확인하기 위해 최근 이슈가 되고 있는 '타다 금지법' 관련 동영상 댓글 수집과 분석을 진행하고자 한다.\n",
    "\n"
   ]
  },
  {
   "cell_type": "markdown",
   "metadata": {},
   "source": [
    "- 데이터 수집의 계획 및 주기 작성\n",
    "    - 데이터를 수집하는 시스템의 구조도 및 프로세스등을 설명\n",
    "     "
   ]
  },
  {
   "attachments": {
    "image.png": {
     "image/png": "![KakaoTalk_20200313_043617368](https://user-images.githubusercontent.com/15780961/76560308-3a338f00-64e4-11ea-9766-8f39230350e3.png)"
    }
   },
   "cell_type": "markdown",
   "metadata": {},
   "source": [
    "![image.png](attachment:image.png)"
   ]
  },
  {
   "cell_type": "markdown",
   "metadata": {},
   "source": [
    "- 크롤링하는 방법\n",
    "    - AWS 서버를 사용하여 YouTube '타다 금지법' 개별 영상 댓글 크롤링\n",
    "    - 스크래피 프레임워크 사용\n",
    "- 데이터의 저장\n",
    "    - mongodb 데이터 베이스에 크롤링 데이터 저장\n",
    "    - 3월 12일 기준 이전 1주일 데이터 저장\n",
    "    - 3월 13일 이후 1일 주기로 자료 수집\n",
    "- 코드의 관리\n",
    "    - github 서비스를 이용해서 코드 관리, 공유, 이슈처리\n",
    "        - master repo : Heejae\n",
    "    - 설치되어야 하는 패키지는 requirements.txt로 작성\n",
    "        - import requests\n",
    "        - import time\n",
    "        - import scrapy\n",
    "        - from selenium import webdriver\n",
    "        - from selenium.webdriver.chrome.options import Options\n",
    "        - from selenium.webdriver.common.keys import Keys\n",
    "        - from scrapy.http import TextResponse\n",
    "    - 코드의 설명은 처음 접한 사람도 그대로 따라하면 코드를 실행 할수 있을 정도로 간결하게 작성\n",
    "        - 우리가 하면 누구나 할 수 있다!!!! 걱정 마셈\n",
    "- 프로젝트 회고\n",
    "    - 프로젝트하면서 느낀점\n",
    "        - 크롬의 css selector와 실제 보여주는 코드가 다른 경우가 있다.\n",
    "    - 추후 연구 및 개선사항\n",
    "        - 스크래피를 사용한 자동화와 주기적 데이터 수집\n",
    "        - 자연어 처리와 텍스트 마이닝을 사용하여 댓글 성향 분석"
   ]
  },
  {
   "cell_type": "markdown",
   "metadata": {},
   "source": [
    "- 참고문헌\n",
    "    - (1) 수집동기 : 이준기, 한미애. (2012). 개인의 정치성향이 뉴스 댓글에 대한 신뢰성과 사회적 영향력의 인식에 미치는 영향. 한국전자거래학회지, 17(1), 173-187.\n",
    "    "
   ]
  },
  {
   "cell_type": "code",
   "execution_count": null,
   "metadata": {},
   "outputs": [],
   "source": []
  }
 ],
 "metadata": {
  "kernelspec": {
   "display_name": "Python 3",
   "language": "python",
   "name": "python3"
  },
  "language_info": {
   "codemirror_mode": {
    "name": "ipython",
    "version": 3
   },
   "file_extension": ".py",
   "mimetype": "text/x-python",
   "name": "python",
   "nbconvert_exporter": "python",
   "pygments_lexer": "ipython3",
   "version": "3.7.4"
  }
 },
 "nbformat": 4,
 "nbformat_minor": 4
}
